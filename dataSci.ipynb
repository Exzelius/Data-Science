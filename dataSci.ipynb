{
 "cells": [
  {
   "cell_type": "code",
   "execution_count": null,
   "id": "58207def",
   "metadata": {},
   "outputs": [],
   "source": [
    "type(-1)"
   ]
  },
  {
   "cell_type": "code",
   "execution_count": null,
   "id": "db041a01",
   "metadata": {},
   "outputs": [],
   "source": [
    "# System settings about float type\n",
    "import sys\n",
    "sys.float_info"
   ]
  },
  {
   "cell_type": "code",
   "execution_count": null,
   "id": "6742c5a1",
   "metadata": {},
   "outputs": [],
   "source": [
    "# Print the type of 0.5\n",
    "\n",
    "type(0.5)"
   ]
  },
  {
   "cell_type": "code",
   "execution_count": null,
   "id": "0ce29c5e",
   "metadata": {},
   "outputs": [],
   "source": [
    "# Print the type of 0.56\n",
    "\n",
    "type(0.56)\n"
   ]
  },
  {
   "cell_type": "code",
   "execution_count": null,
   "id": "b02cd4b3",
   "metadata": {},
   "outputs": [],
   "source": [
    "float(2)"
   ]
  },
  {
   "cell_type": "code",
   "execution_count": null,
   "id": "bf81ff91",
   "metadata": {},
   "outputs": [],
   "source": [
    "int(2.2)"
   ]
  },
  {
   "cell_type": "markdown",
   "id": "910bc981",
   "metadata": {},
   "source": [
    "<h4>Converting from strings to integers or floats</h4>\n"
   ]
  },
  {
   "cell_type": "code",
   "execution_count": null,
   "id": "62400e99",
   "metadata": {},
   "outputs": [],
   "source": [
    "int('1')"
   ]
  },
  {
   "cell_type": "code",
   "execution_count": null,
   "id": "d813373d",
   "metadata": {},
   "outputs": [],
   "source": [
    "int('1 and 2')"
   ]
  },
  {
   "cell_type": "code",
   "execution_count": null,
   "id": "56e00d28",
   "metadata": {},
   "outputs": [],
   "source": [
    "float(\"1.1\")"
   ]
  },
  {
   "cell_type": "code",
   "execution_count": null,
   "id": "6c40c42e",
   "metadata": {},
   "outputs": [],
   "source": [
    "str(1)"
   ]
  },
  {
   "cell_type": "code",
   "execution_count": null,
   "id": "0929f837",
   "metadata": {},
   "outputs": [],
   "source": [
    "7%2"
   ]
  },
  {
   "cell_type": "code",
   "execution_count": null,
   "id": "642ecba5",
   "metadata": {},
   "outputs": [],
   "source": [
    "type(\"hello\" == \"world\")"
   ]
  },
  {
   "cell_type": "code",
   "execution_count": null,
   "id": "59668c23",
   "metadata": {},
   "outputs": [],
   "source": []
  },
  {
   "cell_type": "code",
   "execution_count": null,
   "id": "233b3785",
   "metadata": {},
   "outputs": [],
   "source": [
    "# Example: Represent a float up to 2 decimal places\n",
    "number = 3.14159265\n",
    "formatted_number = round(number, 2)\n",
    "print(formatted_number)  # Output: 3.14\n",
    "\n",
    "f\"{number:.0f}\""
   ]
  },
  {
   "cell_type": "code",
   "execution_count": null,
   "id": "a1f6db3f",
   "metadata": {},
   "outputs": [],
   "source": [
    "3*4.56"
   ]
  },
  {
   "cell_type": "code",
   "execution_count": null,
   "id": "884ac748",
   "metadata": {},
   "outputs": [],
   "source": [
    "13.68//3"
   ]
  },
  {
   "cell_type": "markdown",
   "id": "637fb799",
   "metadata": {},
   "source": [
    "## Format in Strings"
   ]
  },
  {
   "cell_type": "code",
   "execution_count": null,
   "id": "3670729d",
   "metadata": {},
   "outputs": [],
   "source": [
    "name = \"Alice\"\n",
    "age = 30\n",
    "print(f'my name is {name} and I am {age} years old.')"
   ]
  },
  {
   "cell_type": "markdown",
   "id": "41fb1371",
   "metadata": {},
   "source": [
    "## Playing around with Strings\n"
   ]
  },
  {
   "cell_type": "code",
   "execution_count": null,
   "id": "cd5815e2",
   "metadata": {},
   "outputs": [],
   "source": [
    "# Concatenate two strings\n",
    "\n",
    "statement = name + \" is the best album\"\n",
    "print(statement)  # Output: Alice is the best album\n",
    "\n",
    "jooin = ' '.join(['a', 'b', 'c'])\n",
    "print(jooin)  # Output: abc"
   ]
  },
  {
   "cell_type": "code",
   "execution_count": null,
   "id": "8b214c4b",
   "metadata": {},
   "outputs": [],
   "source": [
    "statement.title()"
   ]
  },
  {
   "cell_type": "code",
   "execution_count": null,
   "id": "7a675206",
   "metadata": {},
   "outputs": [],
   "source": [
    "statement.capitalize()"
   ]
  },
  {
   "cell_type": "code",
   "execution_count": null,
   "id": "566b86b4",
   "metadata": {},
   "outputs": [],
   "source": [
    "statement.find('is')"
   ]
  },
  {
   "cell_type": "markdown",
   "id": "45559ad0",
   "metadata": {},
   "source": [
    "The method Split splits the string at the specified separator, and returns a list.\n",
    "\n",
    "Syntax\n",
    "\n",
    "string.split(separator, maxsplit)\n",
    "\n",
    "Parameters\n",
    "\n",
    "separator (optional): This is the delimiter at which the string will be split. If not provided, the default separator is any whitespace.\n",
    "maxsplit (optional): This specifies the maximum number of splits to perform. If not provided, there is no limit on the number of splits.\n",
    "Return Value:\n",
    "\n",
    "The method returns a list of substrings."
   ]
  },
  {
   "cell_type": "markdown",
   "id": "f48305b7",
   "metadata": {},
   "source": []
  },
  {
   "cell_type": "code",
   "execution_count": null,
   "id": "f022b169",
   "metadata": {},
   "outputs": [],
   "source": [
    "splitString = statement.split(' ',2)\n",
    "print(splitString)  # Output: ['Alice', 'is', 'the', 'best', 'album']"
   ]
  },
  {
   "cell_type": "markdown",
   "id": "e45b42c2",
   "metadata": {},
   "source": [
    "## Regex"
   ]
  },
  {
   "cell_type": "code",
   "execution_count": null,
   "id": "a7f36815",
   "metadata": {},
   "outputs": [],
   "source": [
    "import re"
   ]
  },
  {
   "cell_type": "code",
   "execution_count": null,
   "id": "619c4453",
   "metadata": {},
   "outputs": [],
   "source": [
    "print(statement)"
   ]
  },
  {
   "cell_type": "code",
   "execution_count": null,
   "id": "8e401e61",
   "metadata": {},
   "outputs": [],
   "source": [
    "word = 'the'"
   ]
  },
  {
   "cell_type": "code",
   "execution_count": null,
   "id": "56cafc07",
   "metadata": {},
   "outputs": [],
   "source": [
    "result = re.search(word, statement)\n",
    "# print(result)  # Output: <re.Match object; span=(10, 13), match='the'>\n",
    "if result:\n",
    "    print(f\"Found '{word}' in the statement at position {result.start()} to {result.end()}.\")"
   ]
  },
  {
   "cell_type": "code",
   "execution_count": null,
   "id": "2d39901c",
   "metadata": {},
   "outputs": [],
   "source": [
    "pattern = r\"\\d{10}\" or \"\"  # Matches a sequence of exactly 10 digits\n",
    "text = \" My number is 9588468936\"\n",
    "match = re.search(pattern, text)\n",
    "if match:\n",
    "    print(f\"Found a match. The word is: {match.group()}\")\n",
    "else:\n",
    "    print(\"No match found\")"
   ]
  },
  {
   "cell_type": "code",
   "execution_count": null,
   "id": "f2eac96a",
   "metadata": {},
   "outputs": [],
   "source": [
    "import re\n",
    "\n",
    "text = \"Hello World\"\n",
    "\n",
    "# re.match only matches at the start\n",
    "print(re.match(\"World\", text))  # Output: None\n",
    "\n",
    "# re.search finds 'World' anywhere\n",
    "print(re.search(\"World\", text))  # Output: <re.Match object ...>"
   ]
  },
  {
   "cell_type": "code",
   "execution_count": null,
   "id": "41710db6",
   "metadata": {},
   "outputs": [],
   "source": [
    "pattern = r\"\\W\"  # Matches any non-word character\n",
    "text = \"Hello, world!\"\n",
    "matches = re.findall(pattern, text)\n",
    "\n",
    "print(\"Matches:\", matches)"
   ]
  },
  {
   "cell_type": "code",
   "execution_count": null,
   "id": "5f599050",
   "metadata": {},
   "outputs": [],
   "source": [
    "s2 = \"The BodyGuard is the best album of 'Whitney Houston'.\"\n",
    "\n",
    "\n",
    "# Use the findall() function to find all occurrences of the \"st\" in the string\n",
    "result = re.findall(\"st\", s2)\n",
    "\n",
    "# Print out the list of matched words\n",
    "print(f\"the word 'st' appears {len(result)} times in the string\")\n"
   ]
  },
  {
   "cell_type": "code",
   "execution_count": null,
   "id": "fdcc75b4",
   "metadata": {},
   "outputs": [],
   "source": [
    "# Use the split function to split the string by the \"\\s\"\n",
    "split_array = re.split(r\"\\s\", s2)\n",
    "split_def = s2.split()\n",
    "\n",
    "# The split_array contains all the substrings, split by whitespace characters\n",
    "print(split_array)\n",
    "print(split_def)"
   ]
  },
  {
   "cell_type": "code",
   "execution_count": null,
   "id": "804d98cc",
   "metadata": {},
   "outputs": [],
   "source": [
    "s2 = s2.replace(\"Whitney Houston\", \"Anshul\")\n",
    "print(s2)  # Output: The Anshul is the best album of 'Whitney Houston'."
   ]
  },
  {
   "cell_type": "code",
   "execution_count": null,
   "id": "f8eb76b3",
   "metadata": {},
   "outputs": [],
   "source": [
    "\"helloMike\".find(\"Mike\")"
   ]
  },
  {
   "cell_type": "markdown",
   "id": "316d6ab0",
   "metadata": {},
   "source": [
    "## Lists"
   ]
  },
  {
   "cell_type": "code",
   "execution_count": null,
   "id": "5c6e4ee8",
   "metadata": {},
   "outputs": [],
   "source": [
    "l = [\"Michael Jackson\", 10.1, 1982]\n",
    "# help(l)"
   ]
  },
  {
   "cell_type": "code",
   "execution_count": null,
   "id": "2ca37ad3",
   "metadata": {},
   "outputs": [],
   "source": [
    "l.extend([\"The King of Pop\", 'Legend'])"
   ]
  },
  {
   "cell_type": "code",
   "execution_count": null,
   "id": "3258ba55",
   "metadata": {},
   "outputs": [],
   "source": [
    "l.append([\"The King of Pop\", 'Legend'])"
   ]
  },
  {
   "cell_type": "code",
   "execution_count": null,
   "id": "0b2c3ea2",
   "metadata": {},
   "outputs": [],
   "source": [
    "print(l)  # Output: ['Michael Jackson', 10.1, 1982, 'The King of Pop', 'Legend', ['The King of Pop', 'Legend']]"
   ]
  },
  {
   "cell_type": "code",
   "execution_count": null,
   "id": "168ffb8e",
   "metadata": {},
   "outputs": [],
   "source": [
    "del l[-1] # Deletes the last element in the list"
   ]
  },
  {
   "cell_type": "code",
   "execution_count": null,
   "id": "5e401874",
   "metadata": {},
   "outputs": [],
   "source": [
    "print(l)  # Output: ['Michael Jackson', 10.1, 1982, 'The King of Pop', 'Legend', ['The King of Pop', 'Legend']]"
   ]
  },
  {
   "cell_type": "code",
   "execution_count": null,
   "id": "0a997ed2",
   "metadata": {},
   "outputs": [],
   "source": [
    "# Split the string, default is by space\n",
    "\n",
    "'hard rock'.split()"
   ]
  },
  {
   "cell_type": "code",
   "execution_count": null,
   "id": "8e083ed6",
   "metadata": {},
   "outputs": [],
   "source": [
    "# Split the string by comma\n",
    "\n",
    "'A,B,C,D'.split(',')"
   ]
  },
  {
   "cell_type": "code",
   "execution_count": null,
   "id": "ec00b6cd",
   "metadata": {},
   "outputs": [],
   "source": [
    "# Copy (copy by reference) the list A\n",
    "\n",
    "A = [\"hard rock\", 10, 1.2]\n",
    "B = A\n",
    "print('A:', A)\n",
    "print('B:', B)"
   ]
  },
  {
   "cell_type": "code",
   "execution_count": null,
   "id": "03cc7786",
   "metadata": {},
   "outputs": [],
   "source": [
    "# Examine the copy by reference\n",
    "\n",
    "print('B[0]:', B[0])\n",
    "A[0] = \"banana\"\n",
    "print('B[0]:', B[0])"
   ]
  },
  {
   "cell_type": "code",
   "execution_count": null,
   "id": "2e670274",
   "metadata": {},
   "outputs": [],
   "source": [
    "# Copy (copy by reference) the list A\n",
    "\n",
    "A = [\"hard rock\", 10, 1.2]\n",
    "B = A\n",
    "print('A:', A)\n",
    "print('B:', B)\n",
    "\n",
    "# Clone (clone by value) the list A\n",
    "\n",
    "B = A[:]\n",
    "B"
   ]
  },
  {
   "cell_type": "code",
   "execution_count": null,
   "id": "4e1eb040",
   "metadata": {},
   "outputs": [],
   "source": [
    "print('B[0]:', B[0])\n",
    "A[0] = \"banana\"\n",
    "print('A[0]:', A[0])"
   ]
  },
  {
   "cell_type": "markdown",
   "id": "b4e87a68",
   "metadata": {},
   "source": [
    "## Tuples"
   ]
  },
  {
   "cell_type": "code",
   "execution_count": null,
   "id": "1ffc9efa",
   "metadata": {},
   "outputs": [],
   "source": [
    "# Create your first tuple\n",
    "\n",
    "tuple1 = (\"disco\",10,1.2 )\n",
    "tuple1"
   ]
  },
  {
   "cell_type": "code",
   "execution_count": null,
   "id": "0aac472c",
   "metadata": {},
   "outputs": [],
   "source": [
    "# Print the type of the tuple you created\n",
    "\n",
    "type(tuple1)"
   ]
  },
  {
   "cell_type": "code",
   "execution_count": null,
   "id": "7069263c",
   "metadata": {},
   "outputs": [],
   "source": [
    "# Concatenate two tuples\n",
    "\n",
    "tuple2 = tuple1 + (\"hard rock\", 10)\n",
    "tuple2"
   ]
  },
  {
   "cell_type": "code",
   "execution_count": null,
   "id": "b550dc2c",
   "metadata": {},
   "outputs": [],
   "source": [
    "# Slice from index 3 to index 4\n",
    "\n",
    "tuple2[3:5]"
   ]
  },
  {
   "cell_type": "code",
   "execution_count": null,
   "id": "1f41175c",
   "metadata": {},
   "outputs": [],
   "source": [
    "# Get the length of tuple\n",
    "\n",
    "len(tuple2)"
   ]
  },
  {
   "cell_type": "markdown",
   "id": "e840806e",
   "metadata": {},
   "source": [
    "## SOrting"
   ]
  },
  {
   "cell_type": "code",
   "execution_count": null,
   "id": "857b0db7",
   "metadata": {},
   "outputs": [],
   "source": [
    "# A sample tuple\n",
    "\n",
    "Ratings = (0, 9, 6, 5, 10, 8, 9, 6, 2)"
   ]
  },
  {
   "cell_type": "code",
   "execution_count": null,
   "id": "71c948aa",
   "metadata": {},
   "outputs": [],
   "source": [
    "SortedRatings = sorted(Ratings)\n",
    "print(SortedRatings)  # Output: [0, 2, 5, 6, 6, 8, 9, 9, 10]"
   ]
  },
  {
   "cell_type": "markdown",
   "id": "b04a3c6e",
   "metadata": {},
   "source": [
    "## Dictionary"
   ]
  },
  {
   "cell_type": "code",
   "execution_count": null,
   "id": "0e8eb811",
   "metadata": {},
   "outputs": [],
   "source": [
    "# Create the dictionary\n",
    "\n",
    "Dict = {\"key1\": 1, \"key2\": \"2\", \"key3\": [3, 3, 3], \"key4\": (4, 4, 4), ('key5'): 5, (0, 1): 6}\n",
    "Dict"
   ]
  },
  {
   "cell_type": "code",
   "execution_count": null,
   "id": "b89c8f4d",
   "metadata": {},
   "outputs": [],
   "source": [
    "# Access to the value by the key\n",
    "\n",
    "Dict[\"key1\"]\n",
    "\n",
    "# Access to the value by the key\n",
    "\n",
    "Dict[(0, 1)]"
   ]
  },
  {
   "cell_type": "code",
   "execution_count": null,
   "id": "77d97e6f",
   "metadata": {},
   "outputs": [],
   "source": [
    "# Create a sample dictionary\n",
    "\n",
    "release_year_dict = {\"Thriller\": \"1982\", \"Back in Black\": \"1980\", \\\n",
    "                    \"The Dark Side of the Moon\": \"1973\", \"The Bodyguard\": \"1992\", \\\n",
    "                    \"Bat Out of Hell\": \"1977\", \"Their Greatest Hits (1971-1975)\": \"1976\", \\\n",
    "                    \"Saturday Night Fever\": \"1977\", \"Rumours\": \"1977\"}\n",
    "release_year_dict"
   ]
  },
  {
   "cell_type": "code",
   "execution_count": null,
   "id": "a48434d9",
   "metadata": {},
   "outputs": [],
   "source": [
    "# Get all the keys in dictionary\n",
    "\n",
    "release_year_dict.keys() "
   ]
  },
  {
   "cell_type": "code",
   "execution_count": null,
   "id": "0f554329",
   "metadata": {},
   "outputs": [],
   "source": [
    "# Get all the values in dictionary\n",
    "\n",
    "release_year_dict.values() "
   ]
  },
  {
   "cell_type": "code",
   "execution_count": null,
   "id": "d7640441",
   "metadata": {},
   "outputs": [],
   "source": [
    "# Append value with key into dictionary\n",
    "\n",
    "release_year_dict['Graduation'] = '2007'\n",
    "release_year_dict"
   ]
  },
  {
   "cell_type": "code",
   "execution_count": null,
   "id": "51c404bb",
   "metadata": {},
   "outputs": [],
   "source": [
    "# Delete entries by key\n",
    "\n",
    "del(release_year_dict['Thriller'])\n",
    "del(release_year_dict['Graduation'])\n",
    "release_year_dict"
   ]
  },
  {
   "cell_type": "code",
   "execution_count": null,
   "id": "ba8e85b8",
   "metadata": {},
   "outputs": [],
   "source": [
    "# Verify the key is in the dictionary\n",
    "\n",
    "'The Bodyguard' in release_year_dict"
   ]
  },
  {
   "cell_type": "code",
   "execution_count": null,
   "id": "1432e900",
   "metadata": {},
   "outputs": [],
   "source": [
    "Dict={\"A\":1,\"B\":\"2\",\"C\":[3,3,3],\"D\":(4,4,4),'E':5,'F':6}"
   ]
  },
  {
   "cell_type": "code",
   "execution_count": null,
   "id": "82c259e4",
   "metadata": {},
   "outputs": [],
   "source": [
    "Dict[\"D\"]"
   ]
  },
  {
   "cell_type": "code",
   "execution_count": null,
   "id": "233427ce",
   "metadata": {},
   "outputs": [],
   "source": [
    "list1 = [1, 2, 3, 4, 5]\n",
    "\n",
    "print(list1) "
   ]
  },
  {
   "cell_type": "code",
   "execution_count": null,
   "id": "4c4f3a35",
   "metadata": {},
   "outputs": [],
   "source": [
    "list(Dict.keys())   #  Convert keys to a list"
   ]
  },
  {
   "cell_type": "markdown",
   "id": "cd9ad86f",
   "metadata": {},
   "source": [
    "## Sets"
   ]
  },
  {
   "cell_type": "code",
   "execution_count": null,
   "id": "4f74daf5",
   "metadata": {},
   "outputs": [],
   "source": [
    "# Create a set\n",
    "\n",
    "set1 = {\"pop\", \"rock\", \"soul\", \"hard rock\", \"rock\", \"R&B\", \"rock\", \"disco\"}\n",
    "set1"
   ]
  },
  {
   "cell_type": "code",
   "execution_count": null,
   "id": "e512ba44",
   "metadata": {},
   "outputs": [],
   "source": [
    "# Convert list to set\n",
    "\n",
    "album_list = [ \"Michael Jackson\", \"Thriller\", 1982, \"00:42:19\", \\\n",
    "              \"Pop, Rock, R&B\", 46.0, 65, \"30-Nov-82\", None, 10.0]\n",
    "album_set = set(album_list)             \n",
    "album_set"
   ]
  },
  {
   "cell_type": "code",
   "execution_count": null,
   "id": "c26ebb61",
   "metadata": {},
   "outputs": [],
   "source": [
    "# Convert list to set\n",
    "\n",
    "music_genres = set([\"pop\", \"pop\", \"rock\", \"folk rock\", \"hard rock\", \"soul\", \\\n",
    "                    \"progressive rock\", \"soft rock\", \"R&B\", \"disco\"])\n",
    "music_genres"
   ]
  },
  {
   "cell_type": "code",
   "execution_count": null,
   "id": "9290273a",
   "metadata": {},
   "outputs": [],
   "source": [
    "# Sample set\n",
    "\n",
    "A = set([\"Thriller\", \"Back in Black\", \"AC/DC\"])\n",
    "A"
   ]
  },
  {
   "cell_type": "code",
   "execution_count": null,
   "id": "b174590a",
   "metadata": {},
   "outputs": [],
   "source": [
    "# Add element to set\n",
    "\n",
    "A.add(\"NSYNC\")\n",
    "A"
   ]
  },
  {
   "cell_type": "code",
   "execution_count": null,
   "id": "ac0a552b",
   "metadata": {},
   "outputs": [],
   "source": [
    "# Try to add duplicate element to the set\n",
    "\n",
    "A.add(\"NSYNC\")\n",
    "A"
   ]
  },
  {
   "cell_type": "code",
   "execution_count": null,
   "id": "db5fbc2e",
   "metadata": {},
   "outputs": [],
   "source": [
    "# Remove the element from set\n",
    "\n",
    "A.remove(\"NSYNC\")\n",
    "A"
   ]
  },
  {
   "cell_type": "code",
   "execution_count": null,
   "id": "573d2192",
   "metadata": {},
   "outputs": [],
   "source": [
    "# Verify if the element is in the set\n",
    "\n",
    "\"AC/DC\" in A"
   ]
  },
  {
   "cell_type": "code",
   "execution_count": null,
   "id": "b04cc98a",
   "metadata": {},
   "outputs": [],
   "source": [
    "# Sample Sets\n",
    "\n",
    "album_set1 = set([\"Thriller\", 'AC/DC', 'Back in Black'])\n",
    "album_set2 = set([ \"AC/DC\", \"Back in Black\", \"The Dark Side of the Moon\"])"
   ]
  },
  {
   "cell_type": "code",
   "execution_count": null,
   "id": "756f337d",
   "metadata": {},
   "outputs": [],
   "source": [
    "# Print two sets\n",
    "\n",
    "album_set1, album_set2"
   ]
  },
  {
   "cell_type": "code",
   "execution_count": null,
   "id": "2699f3a1",
   "metadata": {},
   "outputs": [],
   "source": [
    "# Find the intersections\n",
    "\n",
    "intersection = album_set1 & album_set2\n",
    "intersection"
   ]
  },
  {
   "cell_type": "code",
   "execution_count": null,
   "id": "1ceac418",
   "metadata": {},
   "outputs": [],
   "source": [
    "# Find the difference in set1 but not set2\n",
    "\n",
    "album_set1.difference(album_set2)  "
   ]
  },
  {
   "cell_type": "code",
   "execution_count": null,
   "id": "a9b68124",
   "metadata": {},
   "outputs": [],
   "source": [
    "album_set2.difference(album_set1)  "
   ]
  },
  {
   "cell_type": "code",
   "execution_count": null,
   "id": "74ee55ca",
   "metadata": {},
   "outputs": [],
   "source": [
    "# Use intersection method to find the intersection of album_list1 and album_list2\n",
    "\n",
    "album_set1.intersection(album_set2)   "
   ]
  },
  {
   "cell_type": "code",
   "execution_count": null,
   "id": "eeeb4e97",
   "metadata": {},
   "outputs": [],
   "source": [
    "# Find the union of two sets\n",
    "\n",
    "album_set1.union(album_set2)"
   ]
  },
  {
   "cell_type": "code",
   "execution_count": null,
   "id": "341daca4",
   "metadata": {},
   "outputs": [],
   "source": [
    "# Check if superset\n",
    "\n",
    "album_set1.issuperset(album_set2)   "
   ]
  },
  {
   "cell_type": "code",
   "execution_count": null,
   "id": "1306fe79",
   "metadata": {},
   "outputs": [],
   "source": [
    "# Check if subset\n",
    "album_set2.issubset(album_set1)     "
   ]
  },
  {
   "cell_type": "code",
   "execution_count": null,
   "id": "13e0c7ca",
   "metadata": {},
   "outputs": [],
   "source": [
    "# Check if subset\n",
    "\n",
    "set({\"Back in Black\", \"AC/DC\"}).issubset(album_set1) "
   ]
  },
  {
   "cell_type": "code",
   "execution_count": null,
   "id": "be79f8d1",
   "metadata": {},
   "outputs": [],
   "source": [
    "# Check if superset\n",
    "\n",
    "album_set1.issuperset({\"Back in Black\", \"AC/DC\"})   "
   ]
  },
  {
   "cell_type": "raw",
   "id": "b68195cf",
   "metadata": {
    "vscode": {
     "languageId": "raw"
    }
   },
   "source": [
    "Char. \tASCII \tChar. \tASCII \tChar. \tASCII \tChar. \tASCII\n",
    "A \t    65 \t    N   \t78   \ta    \t97   \tn \t    110\n",
    "B \t    66  \tO   \t79  \tb \t    98 \t    o \t    111\n",
    "C \t    67 \t    P \t    80  \tc   \t99   \tp \t    112\n",
    "D \t    68  \tQ   \t81   \td   \t100     q   \t113\n",
    "E \t    69 \t    R \t    82   \te   \t101     r \t    114\n",
    "F \t    70 \t    S \t    83 \t    f \t    102 \ts \t    115\n",
    "G \t    71 \t    T \t    84 \t    g \t    103 \tt \t    116\n",
    "H \t    72 \t    U \t    85 \t    h \t    104 \tu \t    117\n",
    "I \t    73 \t    V \t    86 \t    i \t    105 \tv \t    118\n",
    "J \t    74  \tW \t    87 \t    j \t    106 \tw \t    119\n",
    "K \t    75 \t    X \t    88 \t    k \t    107 \tx \t    120\n",
    "L \t    76 \t    Y \t    89 \t    l \t    108 \ty \t    121\n",
    "M \t    77 \t    Z \t    90 \t    m \t    109 \tz \t    122"
   ]
  },
  {
   "cell_type": "markdown",
   "id": "a86c3ed8",
   "metadata": {},
   "source": [
    "## Logical Operators\n",
    "\n",
    "and, or , not"
   ]
  },
  {
   "cell_type": "markdown",
   "id": "e358dd07",
   "metadata": {},
   "source": [
    "## Loops"
   ]
  },
  {
   "cell_type": "code",
   "execution_count": null,
   "id": "a319e078",
   "metadata": {},
   "outputs": [],
   "source": [
    "squares = [\"red\", \"yellow\", \"green\", \"purple\", \"blue\"]\n",
    "\n",
    "# for i in range(len(squares)):\n",
    "#     squares[i] = \"white\"\n",
    "\n",
    "for square in squares:\n",
    "    # square = \"white\"  # This does not change the original list\n",
    "    square\n",
    "\n",
    "print(squares)  # Output: ['white', 'white', 'white', 'white', 'white']"
   ]
  },
  {
   "cell_type": "code",
   "execution_count": null,
   "id": "d4a8eadc",
   "metadata": {},
   "outputs": [],
   "source": [
    "## Enurmerate example\n",
    "\n",
    "squares = [\"red\", \"yellow\", \"green\", \"purple\", \"blue\"]\n",
    "\n",
    "for index, square in enumerate(squares):\n",
    "    print(f\"Square {index}: {square}\")  # Output:"
   ]
  },
  {
   "cell_type": "code",
   "execution_count": 19,
   "id": "36c048bc",
   "metadata": {},
   "outputs": [
    {
     "data": {
      "text/plain": [
       "['orange', 'orange', 'orange']"
      ]
     },
     "execution_count": 19,
     "metadata": {},
     "output_type": "execute_result"
    }
   ],
   "source": [
    "# While loops\n",
    "\n",
    "# copy orange squares into new list until other colors are present\n",
    "\n",
    "\n",
    "squares = ['orange','orange','orange','purple','orange','orange','orange']\n",
    "new_squares = []\n",
    "# print(squares)  # Output: ['orange', 'orange', 'orange', 'purple', 'orange', 'orange']\n",
    "i = 0\n",
    "while squares[i] == 'orange':\n",
    "    new_squares.append(squares[i])\n",
    "    i+=1\n",
    "new_squares"
   ]
  },
  {
   "cell_type": "markdown",
   "id": "aa484aa3",
   "metadata": {},
   "source": [
    "## Functions"
   ]
  },
  {
   "cell_type": "code",
   "execution_count": 23,
   "id": "5f67f400",
   "metadata": {},
   "outputs": [
    {
     "name": "stdout",
     "output_type": "stream",
     "text": [
      "the frequency of Little is 1\n",
      "the frequency of white is 1\n",
      "the frequency of Everywhere is 1\n",
      "the frequency of to is 1\n",
      "the frequency of little is 3\n",
      "the frequency of Mary is 6\n",
      "the frequency of was is 2\n",
      "the frequency of go is 1\n",
      "the frequency of fleece is 1\n",
      "the frequency of sure is 1\n",
      "the frequency of The is 1\n",
      "the frequency of as is 1\n",
      "the frequency of had is 2\n",
      "the frequency of And is 1\n",
      "the frequency of everywhere is 1\n",
      "the frequency of Its is 1\n",
      "the frequency of went is 4\n",
      "the frequency of lamb is 5\n",
      "the frequency of snow is 1\n",
      "the frequency of that is 2\n",
      "the frequency of a is 2\n"
     ]
    }
   ],
   "source": [
    "def freq(string):\n",
    "\n",
    "    words = string.replace(',', ' ').replace('.', ' ').split()\n",
    "    unique_words = set(words)\n",
    "\n",
    "    dict = {}\n",
    "\n",
    "    for key in unique_words:\n",
    "        dict[key]=words.count(key)\n",
    "        print(f'the frequency of {key} is {dict[key]}') \n",
    "\n",
    "#step6: Call function and pass string in it\n",
    "freq(\"Mary had a little lamb Little lamb, little lamb Mary had a little lamb.Its fleece was white as snow And everywhere that Mary went Mary went, Mary went \\\n",
    "Everywhere that Mary went The lamb was sure to go\")"
   ]
  },
  {
   "cell_type": "markdown",
   "id": "e4375b98",
   "metadata": {},
   "source": [
    "## Collections and Functions\n",
    "\n",
    "When the number of arguments are unknown for a function, They can all be packed into a tuple as shown:\n"
   ]
  },
  {
   "cell_type": "code",
   "execution_count": 24,
   "id": "efa6ddba",
   "metadata": {},
   "outputs": [
    {
     "name": "stdout",
     "output_type": "stream",
     "text": [
      "No of arguments: 3\n",
      "Horsefeather\n",
      "Adonis\n",
      "Bone\n",
      "No of arguments: 4\n",
      "Sidecar\n",
      "Long Island\n",
      "Mudslide\n",
      "Carriage\n"
     ]
    }
   ],
   "source": [
    "def printAll(*args): # All the arguments are 'packed' into args which can be treated like a tuple\n",
    "    print(\"No of arguments:\", len(args)) \n",
    "    for argument in args:\n",
    "        print(argument)\n",
    "#printAll with 3 arguments\n",
    "printAll('Horsefeather','Adonis','Bone')\n",
    "#printAll with 4 arguments\n",
    "printAll('Sidecar','Long Island','Mudslide','Carriage')"
   ]
  },
  {
   "cell_type": "markdown",
   "id": "3bd866c2",
   "metadata": {},
   "source": [
    "Similarly, The arguments can also be packed into a dictionary as shown:\n"
   ]
  },
  {
   "cell_type": "code",
   "execution_count": 25,
   "id": "8084de24",
   "metadata": {},
   "outputs": [
    {
     "name": "stdout",
     "output_type": "stream",
     "text": [
      "Country : Canada\n",
      "Province : Ontario\n",
      "City : Toronto\n"
     ]
    }
   ],
   "source": [
    "def printDictionary(**args):\n",
    "    for key in args:\n",
    "        print(key + \" : \" + args[key])\n",
    "\n",
    "printDictionary(Country='Canada',Province='Ontario',City='Toronto')\n",
    "    "
   ]
  },
  {
   "cell_type": "code",
   "execution_count": 29,
   "id": "527c2de2",
   "metadata": {},
   "outputs": [
    {
     "data": {
      "text/plain": [
       "['One', 'Two', 'Three', 'Four']"
      ]
     },
     "execution_count": 29,
     "metadata": {},
     "output_type": "execute_result"
    }
   ],
   "source": [
    "def addItems(list):\n",
    "    list.append(\"Three\")\n",
    "    list.append(\"Four\")\n",
    "\n",
    "myList = [\"One\",\"Two\"]\n",
    "\n",
    "# addItems(list(tuple(myList)))\n",
    "\n",
    "addItems(myList)\n",
    "\n",
    "myList\n",
    "    "
   ]
  },
  {
   "cell_type": "markdown",
   "id": "497b649f",
   "metadata": {},
   "source": [
    "Note how the changes made to the list are not limited to the functions scope. This occurs as it is the lists **reference** that is passed to the function - Any changes made are on the orignal instance of the list. Therefore, one should be cautious when passing mutable objects into functions.\n",
    "\n",
    "<hr>\n"
   ]
  },
  {
   "cell_type": "code",
   "execution_count": 34,
   "id": "6edd7548",
   "metadata": {},
   "outputs": [
    {
     "name": "stdout",
     "output_type": "stream",
     "text": [
      "[3, 2, 1]\n"
     ]
    }
   ],
   "source": [
    "L = [1, 3, 2]\n",
    "\n",
    "L.sort(reverse=True)\n",
    "\n",
    "print(L)"
   ]
  },
  {
   "cell_type": "markdown",
   "id": "6ba19d46",
   "metadata": {},
   "source": [
    "# Exception Handling"
   ]
  },
  {
   "cell_type": "code",
   "execution_count": 1,
   "id": "1538fa0f",
   "metadata": {},
   "outputs": [
    {
     "name": "stdout",
     "output_type": "stream",
     "text": [
      "Error: Cannot divide by zero\n",
      "outside of try and except block\n"
     ]
    }
   ],
   "source": [
    "# using Try- except \n",
    "try:\n",
    "    # Attempting to divide 10 by 0\n",
    "    result = 10 / 0\n",
    "except ZeroDivisionError:\n",
    "    # Handling the ZeroDivisionError and printing an error message\n",
    "    print(\"Error: Cannot divide by zero\")\n",
    "# This line will be executed regardless of whether an exception occurred\n",
    "print(\"outside of try and except block\")"
   ]
  },
  {
   "cell_type": "code",
   "execution_count": 2,
   "id": "3473162e",
   "metadata": {},
   "outputs": [
    {
     "ename": "ZeroDivisionError",
     "evalue": "division by zero",
     "output_type": "error",
     "traceback": [
      "\u001b[1;31m---------------------------------------------------------------------------\u001b[0m",
      "\u001b[1;31mZeroDivisionError\u001b[0m                         Traceback (most recent call last)",
      "Cell \u001b[1;32mIn[2], line 1\u001b[0m\n\u001b[1;32m----> 1\u001b[0m \u001b[38;5;241;43m1\u001b[39;49m\u001b[38;5;241;43m/\u001b[39;49m\u001b[38;5;241;43m0\u001b[39;49m\n",
      "\u001b[1;31mZeroDivisionError\u001b[0m: division by zero"
     ]
    }
   ],
   "source": [
    "1/0"
   ]
  },
  {
   "cell_type": "code",
   "execution_count": 3,
   "id": "e4999ab2",
   "metadata": {},
   "outputs": [
    {
     "ename": "NameError",
     "evalue": "name 'a' is not defined",
     "output_type": "error",
     "traceback": [
      "\u001b[1;31m---------------------------------------------------------------------------\u001b[0m",
      "\u001b[1;31mNameError\u001b[0m                                 Traceback (most recent call last)",
      "Cell \u001b[1;32mIn[3], line 1\u001b[0m\n\u001b[1;32m----> 1\u001b[0m y \u001b[38;5;241m=\u001b[39m \u001b[43ma\u001b[49m\u001b[38;5;241m+\u001b[39m \u001b[38;5;241m5\u001b[39m\n",
      "\u001b[1;31mNameError\u001b[0m: name 'a' is not defined"
     ]
    }
   ],
   "source": [
    "y = a+ 5"
   ]
  },
  {
   "cell_type": "code",
   "execution_count": 4,
   "id": "035b581a",
   "metadata": {},
   "outputs": [
    {
     "ename": "IndexError",
     "evalue": "list index out of range",
     "output_type": "error",
     "traceback": [
      "\u001b[1;31m---------------------------------------------------------------------------\u001b[0m",
      "\u001b[1;31mIndexError\u001b[0m                                Traceback (most recent call last)",
      "Cell \u001b[1;32mIn[4], line 2\u001b[0m\n\u001b[0;32m      1\u001b[0m a \u001b[38;5;241m=\u001b[39m [\u001b[38;5;241m1\u001b[39m, \u001b[38;5;241m2\u001b[39m, \u001b[38;5;241m3\u001b[39m]\n\u001b[1;32m----> 2\u001b[0m \u001b[43ma\u001b[49m\u001b[43m[\u001b[49m\u001b[38;5;241;43m10\u001b[39;49m\u001b[43m]\u001b[49m\n",
      "\u001b[1;31mIndexError\u001b[0m: list index out of range"
     ]
    }
   ],
   "source": [
    "a = [1, 2, 3]\n",
    "a[10]"
   ]
  },
  {
   "cell_type": "code",
   "execution_count": 7,
   "id": "0b62c0f7",
   "metadata": {},
   "outputs": [
    {
     "name": "stdout",
     "output_type": "stream",
     "text": [
      "there was an error\n"
     ]
    }
   ],
   "source": [
    "a=1\n",
    "try:\n",
    "    b=int(input(\"Enter a number to divide\"))\n",
    "    a = a/b\n",
    "    print('Success')\n",
    "except:\n",
    "    print('there was an error')"
   ]
  },
  {
   "cell_type": "code",
   "execution_count": 10,
   "id": "1a0ade2b",
   "metadata": {},
   "outputs": [
    {
     "name": "stdout",
     "output_type": "stream",
     "text": [
      "You did not provide a number\n"
     ]
    }
   ],
   "source": [
    "a = 1\n",
    "\n",
    "try:\n",
    "    b = int(input(\"Please enter a number to divide a\"))\n",
    "    a = a/b\n",
    "    print(\"Success a=\",a)\n",
    "except ZeroDivisionError:\n",
    "    print(\"The number you provided cant divide 1 because it is 0\")\n",
    "except ValueError:\n",
    "    print(\"You did not provide a number\")\n",
    "except:\n",
    "    print(\"Something went wrong\")\n",
    "        \n"
   ]
  },
  {
   "cell_type": "code",
   "execution_count": 12,
   "id": "85cffa3a",
   "metadata": {},
   "outputs": [
    {
     "ename": "IndentationError",
     "evalue": "expected an indented block after 'try' statement on line 3 (2829442695.py, line 5)",
     "output_type": "error",
     "traceback": [
      "\u001b[1;36m  Cell \u001b[1;32mIn[12], line 5\u001b[1;36m\u001b[0m\n\u001b[1;33m    except ZeroDivisionError:\u001b[0m\n\u001b[1;37m    ^\u001b[0m\n\u001b[1;31mIndentationError\u001b[0m\u001b[1;31m:\u001b[0m expected an indented block after 'try' statement on line 3\n"
     ]
    }
   ],
   "source": [
    "# potential code before try catch\n",
    "\n",
    "try:\n",
    "    # code to try to execute\n",
    "except ZeroDivisionError:\n",
    "    # code to execute if there is a ZeroDivisionError\n",
    "except NameError:\n",
    "    # code to execute if there is a NameError\n",
    "except:\n",
    "    # code to execute if ther is any exception\n",
    "else:\n",
    "    # code to execute if there is no exception\n",
    "finally:\n",
    "    # code to execute at the end of the try except no matter what\n",
    "    \n",
    "# code that will execute if there is no exception or a one that we are handling"
   ]
  },
  {
   "cell_type": "markdown",
   "id": "e3ef5050",
   "metadata": {},
   "source": [
    "# Try Except Else and Finally Example\n",
    "You might have noticed that even if there is an error the value of a is always printed. Let's use the else and print the value of a only if there is no error."
   ]
  },
  {
   "cell_type": "code",
   "execution_count": 16,
   "id": "87c1e009",
   "metadata": {},
   "outputs": [
    {
     "name": "stdout",
     "output_type": "stream",
     "text": [
      "success a= 0.25\n"
     ]
    }
   ],
   "source": [
    "a = 1\n",
    "\n",
    "try:\n",
    "    b = int(input(\"Please enter a number to divide a\"))\n",
    "    a = a/b\n",
    "except ZeroDivisionError:\n",
    "    print(\"The number you provided cant divide 1 because it is 0\")\n",
    "except ValueError:\n",
    "    print(\"You did not provide a number\")\n",
    "except:\n",
    "    print(\"Something went wrong\")\n",
    "else:\n",
    "    print(\"success a=\",a)"
   ]
  },
  {
   "cell_type": "markdown",
   "id": "b68a26b7",
   "metadata": {},
   "source": [
    "\n",
    "Now lets let the user know that we are done processing their answer. Using the finally, let's add a print."
   ]
  },
  {
   "cell_type": "code",
   "execution_count": 18,
   "id": "8cea3482",
   "metadata": {},
   "outputs": [
    {
     "name": "stdout",
     "output_type": "stream",
     "text": [
      "The number you provided cant divide 1 because it is 0\n",
      "Processing Complete\n"
     ]
    }
   ],
   "source": [
    "a = 1\n",
    "\n",
    "try:\n",
    "    b = int(input(\"Please enter a number to divide a\"))\n",
    "    a = a/b\n",
    "except ZeroDivisionError:\n",
    "    print(\"The number you provided cant divide 1 because it is 0\")\n",
    "except ValueError:\n",
    "    print(\"You did not provide a number\")\n",
    "except:\n",
    "    print(\"Something went wrong\")\n",
    "else:\n",
    "    print(\"success a=\",a)\n",
    "finally:\n",
    "    print(\"Processing Complete\")"
   ]
  },
  {
   "cell_type": "markdown",
   "id": "6b106b49",
   "metadata": {},
   "source": [
    "# Exercise 1: Handling ZeroDivisionError\n",
    "\n",
    "Imagine you have two numbers and want to determine what happens when you divide one number by the other. To do this, you need to create a Python function called safe_divide. You give this function two numbers, a 'numerator' and a 'denominator'. The 'numerator' is the number you want to divide, and the 'denominator' is the number you want to divide by. Use the user input method of Python to take the values.\n",
    "\n",
    "The function should be able to do the division for you and give you the result. But here's the catch: if you try to divide by zero (which is not allowed in math), the function should be smart enough to catch that and tell you that it's not possible to divide by zero. Instead of showing an error, it should return None, which means 'nothing' or 'no value', and print \"Error: Cannot divide by Zero."
   ]
  },
  {
   "cell_type": "code",
   "execution_count": 22,
   "id": "25c5a024",
   "metadata": {},
   "outputs": [
    {
     "name": "stdout",
     "output_type": "stream",
     "text": [
      "Error: Cannot divide by Zero.\n"
     ]
    }
   ],
   "source": [
    "def safe_divide(numerator, denominator):\n",
    "    try:\n",
    "        result = numerator/denominator\n",
    "        return result\n",
    "    except ZeroDivisionError:\n",
    "        print(\"Error: Cannot divide by Zero.\")\n",
    "        return None\n",
    "    \n",
    "num1 = int(input(\"Enter the Numerator\"))\n",
    "num2 = int(input(\"Enter the Denominator\"))\n",
    "\n",
    "safe_divide(num1, num2)"
   ]
  },
  {
   "cell_type": "markdown",
   "id": "7243d7a5",
   "metadata": {},
   "source": [
    "# Exercise 2: Handling ValueError\n",
    "Imagine you have a number and want to calculate its square root. To do this, you need to create a Python function. You give this function one number, 'number1'.\n",
    "\n",
    "The function should generate the square root value if you provide a positive integer or float value as input. However, the function should be clever enough to detect the mistake if you enter a negative value. It should kindly inform you with a message saying, 'Invalid input! Please enter a positive integer or a float value."
   ]
  },
  {
   "cell_type": "code",
   "execution_count": 29,
   "id": "3d8028bb",
   "metadata": {},
   "outputs": [
    {
     "ename": "ValueError",
     "evalue": "invalid literal for int() with base 10: 'k'",
     "output_type": "error",
     "traceback": [
      "\u001b[1;31m---------------------------------------------------------------------------\u001b[0m",
      "\u001b[1;31mValueError\u001b[0m                                Traceback (most recent call last)",
      "Cell \u001b[1;32mIn[29], line 11\u001b[0m\n\u001b[0;32m      8\u001b[0m         \u001b[38;5;28mprint\u001b[39m(\u001b[38;5;124m\"\u001b[39m\u001b[38;5;124mInvalid input! Please enter a positive integer or a float value.\u001b[39m\u001b[38;5;124m\"\u001b[39m)\n\u001b[0;32m      9\u001b[0m         \u001b[38;5;28;01mreturn\u001b[39;00m \u001b[38;5;28;01mNone\u001b[39;00m\n\u001b[1;32m---> 11\u001b[0m num \u001b[38;5;241m=\u001b[39m \u001b[38;5;28;43mint\u001b[39;49m\u001b[43m(\u001b[49m\u001b[38;5;28;43minput\u001b[39;49m\u001b[43m(\u001b[49m\u001b[38;5;124;43m\"\u001b[39;49m\u001b[38;5;124;43mEnter the Number: \u001b[39;49m\u001b[38;5;124;43m\"\u001b[39;49m\u001b[43m)\u001b[49m\u001b[43m)\u001b[49m\n\u001b[0;32m     13\u001b[0m square_root(num)\n",
      "\u001b[1;31mValueError\u001b[0m: invalid literal for int() with base 10: 'k'"
     ]
    }
   ],
   "source": [
    "from math import sqrt\n",
    "\n",
    "def square_root(number1):\n",
    "    try:\n",
    "        result = sqrt(number1)\n",
    "        return result\n",
    "    except ValueError:\n",
    "        print(\"Invalid input! Please enter a positive integer or a float value.\")\n",
    "        return None\n",
    "    \n",
    "num = int(input(\"Enter the Number: \"))\n",
    "\n",
    "square_root(num)"
   ]
  },
  {
   "cell_type": "markdown",
   "id": "3b6b2160",
   "metadata": {},
   "source": [
    "\n",
    "# Exercise 3: Handling Generic Exceptions\n",
    "Imagine you have a number and want to perform a complex mathematical task. The calculation requires dividing the value of the input argument \"num\" by the difference between \"num\" and 5, and the result has to be stored in a variable called \"result\".\n",
    "\n",
    "You have to define a function so that it can perform that complex mathematical task. The function should handle any potential errors that occur during the calculation. To do this, you can use a try-except block. If any exception arises during the calculation, it should catch the error using the generic exception class \"Exception\" as \"e\". When an exception occurs, the function should display \"An error occurred during calculation."
   ]
  },
  {
   "cell_type": "code",
   "execution_count": 34,
   "id": "f7a56ed1",
   "metadata": {},
   "outputs": [
    {
     "name": "stdout",
     "output_type": "stream",
     "text": [
      "An error occured during calculation: division by zero\n"
     ]
    }
   ],
   "source": [
    "def math_task(num):\n",
    "    try:\n",
    "        result = num / (num-5)\n",
    "        print(result)\n",
    "    except Exception as e:\n",
    "        print(\"An error occured during calculation:\", e)\n",
    "\n",
    "num = int(input(\"Enter the number: \"))\n",
    "\n",
    "math_task(num)"
   ]
  },
  {
   "cell_type": "markdown",
   "id": "4a03f03a",
   "metadata": {},
   "source": [
    "# Objects and Classes"
   ]
  },
  {
   "cell_type": "markdown",
   "id": "6afe6136",
   "metadata": {},
   "source": [
    "object is an instance of a particular type\n",
    "\n",
    "a class or a type's methods are functions that every instance of the class or type provides."
   ]
  },
  {
   "cell_type": "code",
   "execution_count": null,
   "id": "2fcb90d1",
   "metadata": {},
   "outputs": [],
   "source": [
    "class Circle:\n",
    "    def __init__(self,radius,color):\n",
    "        self.radius = radius\n",
    "        self.color = color\n",
    "\n",
    "C1 = Circle(10,'red')\n",
    "# C1.radius\n",
    "# C1.color\n",
    "C1.color='blue'"
   ]
  },
  {
   "cell_type": "code",
   "execution_count": 39,
   "id": "e3e68b0e",
   "metadata": {},
   "outputs": [
    {
     "data": {
      "text/plain": [
       "'blue'"
      ]
     },
     "execution_count": 39,
     "metadata": {},
     "output_type": "execute_result"
    }
   ],
   "source": [
    "C1.color"
   ]
  },
  {
   "cell_type": "code",
   "execution_count": null,
   "id": "44fb106a",
   "metadata": {},
   "outputs": [
    {
     "ename": "AttributeError",
     "evalue": "'Circle' object has no attribute 'drawCircle'",
     "output_type": "error",
     "traceback": [
      "\u001b[1;31m---------------------------------------------------------------------------\u001b[0m",
      "\u001b[1;31mAttributeError\u001b[0m                            Traceback (most recent call last)",
      "Cell \u001b[1;32mIn[43], line 12\u001b[0m\n\u001b[0;32m     10\u001b[0m C1\u001b[38;5;241m.\u001b[39madd_radius(\u001b[38;5;241m8\u001b[39m)\n\u001b[0;32m     11\u001b[0m C1\u001b[38;5;241m.\u001b[39mradius\n\u001b[1;32m---> 12\u001b[0m \u001b[43mC1\u001b[49m\u001b[38;5;241;43m.\u001b[39;49m\u001b[43mdrawCircle\u001b[49m()\n",
      "\u001b[1;31mAttributeError\u001b[0m: 'Circle' object has no attribute 'drawCircle'"
     ]
    }
   ],
   "source": [
    "class Circle:\n",
    "    def __init__(self,radius=3,color='red'):\n",
    "        self.radius = radius\n",
    "        self.color = color\n",
    "    def add_radius(self,r):\n",
    "        self.radius=self.radius+r\n",
    "\n",
    "C1 = Circle(2,'red')\n",
    "\n",
    "C1.add_radius(8)\n",
    "C1.radius"
   ]
  },
  {
   "cell_type": "code",
   "execution_count": 44,
   "id": "5dcae41e",
   "metadata": {},
   "outputs": [
    {
     "data": {
      "text/plain": [
       "['__class__',\n",
       " '__delattr__',\n",
       " '__dict__',\n",
       " '__dir__',\n",
       " '__doc__',\n",
       " '__eq__',\n",
       " '__format__',\n",
       " '__ge__',\n",
       " '__getattribute__',\n",
       " '__getstate__',\n",
       " '__gt__',\n",
       " '__hash__',\n",
       " '__init__',\n",
       " '__init_subclass__',\n",
       " '__le__',\n",
       " '__lt__',\n",
       " '__module__',\n",
       " '__ne__',\n",
       " '__new__',\n",
       " '__reduce__',\n",
       " '__reduce_ex__',\n",
       " '__repr__',\n",
       " '__setattr__',\n",
       " '__sizeof__',\n",
       " '__str__',\n",
       " '__subclasshook__',\n",
       " '__weakref__',\n",
       " 'add_radius',\n",
       " 'color',\n",
       " 'radius']"
      ]
     },
     "execution_count": 44,
     "metadata": {},
     "output_type": "execute_result"
    }
   ],
   "source": [
    "dir(C1)"
   ]
  },
  {
   "cell_type": "code",
   "execution_count": null,
   "id": "411f4904",
   "metadata": {},
   "outputs": [],
   "source": [
    "class ClassName:\n",
    "    # Class attributes (shared by all instances)\n",
    "    class_attribute = value\n",
    "    # Constructor method (initialize instance attributes)\n",
    "    def __init__(self, attribute1, attribute2, ...):\n",
    "        self.attribute1 = attribute1\n",
    "        self.attribute2 = attribute2\n",
    "        # ...\n",
    "    # Instance methods (functions)\n",
    "    def method1(self, parameter1, parameter2, ...):\n",
    "        # Method logic\n",
    "        pass\n",
    "    def method2(self, parameter1, parameter2, ...):\n",
    "        # Method logic\n",
    "        pass"
   ]
  },
  {
   "cell_type": "code",
   "execution_count": null,
   "id": "1aaa15f4",
   "metadata": {},
   "outputs": [],
   "source": [
    "# Create objects (instances) of the class\n",
    "object1 = ClassName(arg1, arg2, ...)\n",
    "object2 = ClassName(arg1, arg2, ...)"
   ]
  },
  {
   "cell_type": "code",
   "execution_count": null,
   "id": "c950678b",
   "metadata": {},
   "outputs": [],
   "source": [
    "# Calling methods on objects\n",
    "# Method 1: Using dot notation\n",
    "result1 = object1.method1(param1_value, param2_value, ...)\n",
    "result2 = object2.method2(param1_value, param2_value, ...)\n",
    "\n",
    "# Method 2: Assigning object methods to variables\n",
    "method_reference = object1.method1  # Assign the method to a variable\n",
    "result3 = method_reference(param1_value, param2_value, ...)"
   ]
  },
  {
   "cell_type": "code",
   "execution_count": null,
   "id": "5f7c3860",
   "metadata": {},
   "outputs": [],
   "source": [
    "# Accessing object attributes\n",
    "attribute_value = object1.attribute1  # Access the attribute using dot notation\n",
    "\n",
    "# Modifying object attributes\n",
    "object1.attribute2 = new_value  # Change the value of an attribute using dot notation\n",
    "\n",
    "# Accessing class attributes (shared by all instances)\n",
    "class_attr_value = ClassName.class_attribute"
   ]
  },
  {
   "cell_type": "markdown",
   "id": "29189bf7",
   "metadata": {},
   "source": [
    "## Real-world example\n",
    "Let's write a python program that simulates a simple car class, allowing you to create car instances, accelerate them, and display their current speeds.\n",
    "\n",
    "Let's start by defining a Car class that includes the following attributes and methods:\n",
    "Class attribute max_speed, which is set to 120 km/h.\n",
    "\n",
    "Constructor method __init__ that takes parameters for the car's make, model, color, and an optional speed (defaulting to 0). This method initializes instance attributes for make, model, color, and speed.\n",
    "\n",
    "Method accelerate(self, acceleration) that allows the car to accelerate. If the acceleration does not exceed the max_speed, update the car's speed attribute. Otherwise, set the speed to the max_speed.\n",
    "\n",
    "Method get_speed(self) that returns the current speed of the car."
   ]
  },
  {
   "cell_type": "code",
   "execution_count": 45,
   "id": "9a167347",
   "metadata": {},
   "outputs": [],
   "source": [
    "class Car:\n",
    "    # Class attribute (shared by all instances)\n",
    "    max_speed = 120  # Maximum speed in km/h\n",
    "    # Constructor method (initialize instance attributes)\n",
    "    def __init__(self, make, model, color, speed=0):\n",
    "        self.make = make\n",
    "        self.model = model\n",
    "        self.color = color\n",
    "        self.speed = speed  # Initial speed is set to 0\n",
    "    # Method for accelerating the car\n",
    "    def accelerate(self, acceleration):\n",
    "        if self.speed + acceleration <= Car.max_speed:\n",
    "            self.speed += acceleration\n",
    "        else:\n",
    "            self.speed = Car.max_speed\n",
    "    # Method to get the current speed of the car\n",
    "    def get_speed(self):\n",
    "        return self.speed"
   ]
  },
  {
   "cell_type": "code",
   "execution_count": 46,
   "id": "facd9c7c",
   "metadata": {},
   "outputs": [],
   "source": [
    "# Create objects (instances) of the Car class\n",
    "car1 = Car(\"Toyota\", \"Camry\", \"Blue\")\n",
    "car2 = Car(\"Honda\", \"Civic\", \"Red\")"
   ]
  },
  {
   "cell_type": "code",
   "execution_count": 47,
   "id": "eb0e40ce",
   "metadata": {},
   "outputs": [],
   "source": [
    "# Accelerate the cars\n",
    "car1.accelerate(30)\n",
    "car2.accelerate(20)"
   ]
  },
  {
   "cell_type": "code",
   "execution_count": 48,
   "id": "ca3253a6",
   "metadata": {},
   "outputs": [
    {
     "name": "stdout",
     "output_type": "stream",
     "text": [
      "Toyota Camry is currently at 30 km/h.\n",
      "Honda Civic is currently at 20 km/h.\n"
     ]
    }
   ],
   "source": [
    "# Print the current speeds of the cars\n",
    "print(f\"{car1.make} {car1.model} is currently at {car1.get_speed()} km/h.\")\n",
    "print(f\"{car2.make} {car2.model} is currently at {car2.get_speed()} km/h.\")"
   ]
  },
  {
   "cell_type": "markdown",
   "id": "7e439e04",
   "metadata": {},
   "source": [
    "# Text Anaysis"
   ]
  },
  {
   "cell_type": "code",
   "execution_count": 49,
   "id": "6fe0be4c",
   "metadata": {},
   "outputs": [],
   "source": [
    "#Press Shift+Enter to run the code\n",
    "givenstring=\"Lorem ipsum dolor! diam amet, consetetur Lorem magna. sed diam nonumy eirmod tempor. diam et labore? et diam magna. et diam amet.\""
   ]
  },
  {
   "cell_type": "code",
   "execution_count": 55,
   "id": "95d7bdf6",
   "metadata": {},
   "outputs": [],
   "source": [
    "#Press shift+Enter to run the code\n",
    "class TextAnalyzer(object):\n",
    "    \n",
    "    def __init__ (self, text):\n",
    "        # remove punctuation\n",
    "        formattedText = text.replace('.','').replace(',','').replace('!','').replace('?','')\n",
    "        # make text lowercase\n",
    "        formattedText = formattedText.lower()\n",
    "        self.fmtText = formattedText        \n",
    "        \n",
    "    def freqAll(self):        \n",
    "        # split text into words\n",
    "        words = self.fmtText.split()\n",
    "        dict = {}\n",
    "\n",
    "        for key in set(words):\n",
    "            dict[key]=words.count(key)\n",
    "        # Create dictionary\n",
    "        return dict\n",
    "           \n",
    "    def freqOf(self,word):\n",
    "        # get frequency map\n",
    "        freqDict = self.freqAll()\n",
    "        if word in freqDict:\n",
    "            return freqDict[word]\n",
    "        else:\n",
    "            return 0\n"
   ]
  },
  {
   "cell_type": "code",
   "execution_count": 56,
   "id": "44721d0d",
   "metadata": {},
   "outputs": [],
   "source": [
    "# type your code here\n",
    "analyzed = TextAnalyzer(givenstring)"
   ]
  },
  {
   "cell_type": "code",
   "execution_count": 61,
   "id": "078508b4",
   "metadata": {},
   "outputs": [
    {
     "data": {
      "text/plain": [
       "'lorem ipsum dolor diam amet consetetur lorem magna sed diam nonumy eirmod tempor diam et labore et diam magna et diam amet'"
      ]
     },
     "execution_count": 61,
     "metadata": {},
     "output_type": "execute_result"
    }
   ],
   "source": [
    "analyzed.fmtText"
   ]
  },
  {
   "cell_type": "code",
   "execution_count": 59,
   "id": "f47eb83b",
   "metadata": {},
   "outputs": [
    {
     "data": {
      "text/plain": [
       "{'sed': 1,\n",
       " 'et': 3,\n",
       " 'ipsum': 1,\n",
       " 'labore': 1,\n",
       " 'diam': 5,\n",
       " 'nonumy': 1,\n",
       " 'consetetur': 1,\n",
       " 'eirmod': 1,\n",
       " 'tempor': 1,\n",
       " 'lorem': 2,\n",
       " 'magna': 2,\n",
       " 'dolor': 1,\n",
       " 'amet': 2}"
      ]
     },
     "execution_count": 59,
     "metadata": {},
     "output_type": "execute_result"
    }
   ],
   "source": [
    "analyzed.freqAll()"
   ]
  },
  {
   "cell_type": "code",
   "execution_count": 62,
   "id": "e388f9be",
   "metadata": {},
   "outputs": [
    {
     "data": {
      "text/plain": [
       "5"
      ]
     },
     "execution_count": 62,
     "metadata": {},
     "output_type": "execute_result"
    }
   ],
   "source": [
    "analyzed.freqOf(word='diam')"
   ]
  },
  {
   "cell_type": "code",
   "execution_count": 64,
   "id": "1b556ea0",
   "metadata": {},
   "outputs": [
    {
     "data": {
      "text/plain": [
       "3"
      ]
     },
     "execution_count": 64,
     "metadata": {},
     "output_type": "execute_result"
    }
   ],
   "source": [
    "a=1\n",
    "b=2\n",
    "\n",
    "def add(a,b):\n",
    "    return(sum((a,b)))\n",
    "\n",
    "add(a,b)"
   ]
  },
  {
   "cell_type": "code",
   "execution_count": 66,
   "id": "d0c5ef4d",
   "metadata": {},
   "outputs": [
    {
     "name": "stdout",
     "output_type": "stream",
     "text": [
      "False\n"
     ]
    }
   ],
   "source": [
    "x = 1 \n",
    "x = x > 5\n",
    "\n",
    "print(x)"
   ]
  },
  {
   "cell_type": "markdown",
   "id": "c54f79b7",
   "metadata": {},
   "source": [
    "## Working with Data in Python"
   ]
  },
  {
   "cell_type": "code",
   "execution_count": 3,
   "id": "bea3548b",
   "metadata": {},
   "outputs": [],
   "source": [
    "file = open('ATS_Resume.txt','r')\n",
    "\n",
    "file.close()"
   ]
  },
  {
   "cell_type": "code",
   "execution_count": 19,
   "id": "6272d4bb",
   "metadata": {},
   "outputs": [
    {
     "name": "stdout",
     "output_type": "stream",
     "text": [
      "ATS_Resume.txt\n"
     ]
    },
    {
     "data": {
      "text/plain": [
       "'r'"
      ]
     },
     "execution_count": 19,
     "metadata": {},
     "output_type": "execute_result"
    }
   ],
   "source": [
    "print(file.name)\n",
    "\n",
    "file.mode"
   ]
  },
  {
   "cell_type": "code",
   "execution_count": 6,
   "id": "16312d1f",
   "metadata": {},
   "outputs": [],
   "source": [
    "with open('ATS_Resume.txt','r') as file:\n",
    "    # further code, no need to close\n",
    "    \n",
    "    # Automatic resource management: The file is guaranteed to be closed when you exit the with block, even if an exception occurs during processing.\n",
    "    # Cleaner and more concise code: You don't need to explicitly call close(), making your code more readable and less error-prone.\n",
    "\n",
    "    pass"
   ]
  },
  {
   "cell_type": "code",
   "execution_count": 21,
   "id": "8abb993a",
   "metadata": {},
   "outputs": [
    {
     "name": "stdout",
     "output_type": "stream",
     "text": [
      "<class 'str'> ANSHUL PATIL\n",
      "Tolka Point Campus, Dublin, D01 W2R1, Ireland\n",
      "+353 892128452\n",
      "anshulpatil619@gmail.com\n",
      "https://www.linkedin.com/in/anshul-patil-529440295/\n",
      "https://github.com/Exzelius\n",
      "PROFILE\n",
      "Computer Engineering graduate from Trinity College Dublin with a strong foundation in AI, full-stack development, and data-driven\n",
      "problem solving. Passionate in designing innovative intelligent systems and deploying end-to-end solutions using modern frameworks.\n",
      "Published AI researcher committed to delivering scalable, real-world software solutions in cross-functional teams.\n",
      "SKILLS\n",
      "Programming: Python, JavaScript, C++, SQL\n",
      "AI & Data Science: TensorFlow, PyTorch, Keras, scikit-learn, NumPy, Pandas, OpenCV, Matplotlib\n",
      "Web Development & APIs: React.js, Flask, Node.js, HTML5, CSS, REST API design\n",
      "Databases: MySQL, Oracle\n",
      "Tools & Infra: Git, Docker, Heroku, Render, Postman, Linux, Unity\n",
      "Testing & Methodologies: Unit Testing, A/B Testing, CI/CD, Agile\n",
      "Cloud & Tech: AWS Cloud Practitioner Certification (in progress), LLMs (Whisper, GPT-Neo, LoRA)\n",
      "WORK EXPERIENCE\n",
      "Software Developer Intern - Decillion Digital Ltd, Leicester, United Kingdom (Hybrid) May 2024 - August 2024\n",
      "Global IT Services and Solutions\n",
      "â€¢ Developed an AI Powered CV parsing system (Python, Flask, spaCy), reducing 3rd party dependency.\n",
      "â€¢ Designed and integrated REST APIs, enabling seamless data exchange with existing HR system.\n",
      "â€¢ Optimized ATS workflows, increasing Resume Processing efficiency by 45%.\n",
      "â€¢ Collaborated with Agile Teams and used version control and CI/CD practices for smooth integration and deployment.\n",
      "PROJECTS\n",
      "Companion Tuning: GPT-Powered Voice AI for AR/VR March 2025 - April 2025\n",
      "Dublin, Ireland\n",
      "â€¢ Built a real-time AI voice companion in AR/VR using Unity and WebSocket-based Python backend.\n",
      "â€¢ Set the Unity Scenes and Animations, fine-tuned GPT-Neo (125M) with LoRA for personalized, low-latency conversation.\n",
      "â€¢ Used Whisper (speech-to-text) and gTTS (speech synthesis) for smooth speech interaction.\n",
      "â€¢ Deployed lightweight, emotionally responsive LLMs on local GPU for immersive experience.\n",
      "Optical Amplifier Gain Prediction using Machine Learning Algorithms January 2025 â€“ April 2025\n",
      "Dublin, Ireland\n",
      "â€¢ Modelled EDFA optical amplifier behaviour using ML Algorithms such as LightGBM, XGBoost, and Neural Networks.\n",
      "â€¢ Compared prediction accuracy under varying channel loading; Neural Networks showed highest accuracy with Mean Absolute Error\n",
      "0.08 dB.\n",
      "â€¢ Demonstrated MLâ€™s role in optimizing signal amplification in optical telecommunications.\n",
      "Breast Cancer Tumor Classification & Segmentation November 2024 - November 2024\n",
      "Dublin, Ireland\n",
      "â€¢ Developed deep learning models for breast cancer detection, achieving 81.01% accuracy with MobileNetV2 and 73.11% F1 score\n",
      "using U-Net with ultrasound scans in Python (TensorFlow/Keras).\n",
      "â€¢ Implemented data preprocessing techniques such as normalization and augmentation, improving model generalization and robustness\n",
      "to real world data.\n",
      "â€¢ Built an interactive visualization tool using matplotlib, to analyze model predictions and tumor segmentation outputs effectively.\n",
      "CERTIFICATIONS\n",
      "Mathematics for Machine Learning\n",
      "Coursera September 2024\n",
      "Goethe-Zertifikat A1: Fit in Deutsch 1 (Basic German Language Certification)\n",
      "Goethe Institut Indien March 2017\n",
      "PUBLICATIONS\n",
      "International Conference on Intelligent and Fuzzy Systems, Springer Aug 17, 2023\n",
      "Pathfinding with Dynamic Obstacles April 2023 - August 2023\n",
      "Developed a dynamic A* search algorithm with Manhattan heuristic for efficient maze navigation. Tested on grids from 10x10 to 100x100\n",
      "with varying obstacle densities, reliably identifying the shortest path and demonstrating robust performance in diverse scenarios.\n",
      "EDUCATION\n",
      "Trinity College Dublin September 2021 - Present\n",
      "Ireland\n",
      "Bachelor's Degree in Computer Engineering\n",
      "LANGUAGES\n",
      "English â€“ Fluent\n",
      "Hindi, Marathi â€“ Native\n",
      "German â€“ Beginner\n"
     ]
    }
   ],
   "source": [
    "with open('ATS_Resume.txt','r') as file:\n",
    "    \n",
    "    file_stuff=file.read()\n",
    "\n",
    "    \n",
    "\n",
    "    print(type(file_stuff),file_stuff)"
   ]
  },
  {
   "cell_type": "code",
   "execution_count": 9,
   "id": "9bcd5195",
   "metadata": {},
   "outputs": [
    {
     "name": "stdout",
     "output_type": "stream",
     "text": [
      "ANSHUL PATIL\n",
      "\n",
      "Lives in Tolka\n"
     ]
    }
   ],
   "source": [
    "file = open('ATS_Resume.txt','r')\n",
    "\n",
    "line1 = file.readline()  # Reads the first line\n",
    "line2 = file.readline()  # Reads the second line\n",
    "\n",
    "print(line1)\n",
    "print('Lives in Tolka') if 'Tolka' in line2 else None\n",
    "\n",
    "file.close()"
   ]
  },
  {
   "cell_type": "code",
   "execution_count": 10,
   "id": "a69e9caf",
   "metadata": {},
   "outputs": [
    {
     "name": "stdout",
     "output_type": "stream",
     "text": [
      "ANSHUL PATIL\n",
      "\n",
      "Tolka Point Campus, Dublin, D01 W2R1, Ireland\n",
      "\n",
      "+353 892128452\n",
      "\n",
      "anshulpatil619@gmail.com\n",
      "\n",
      "https://www.linkedin.com/in/anshul-patil-529440295/\n",
      "\n",
      "https://github.com/Exzelius\n",
      "\n",
      "PROFILE\n",
      "\n",
      "Computer Engineering graduate from Trinity College Dublin with a strong foundation in AI, full-stack development, and data-driven\n",
      "\n",
      "problem solving. Passionate in designing innovative intelligent systems and deploying end-to-end solutions using modern frameworks.\n",
      "\n",
      "Published AI researcher committed to delivering scalable, real-world software solutions in cross-functional teams.\n",
      "\n",
      "SKILLS\n",
      "\n",
      "Programming: Python, JavaScript, C++, SQL\n",
      "\n",
      "AI & Data Science: TensorFlow, PyTorch, Keras, scikit-learn, NumPy, Pandas, OpenCV, Matplotlib\n",
      "\n",
      "Web Development & APIs: React.js, Flask, Node.js, HTML5, CSS, REST API design\n",
      "\n",
      "Databases: MySQL, Oracle\n",
      "\n",
      "Tools & Infra: Git, Docker, Heroku, Render, Postman, Linux, Unity\n",
      "\n",
      "Testing & Methodologies: Unit Testing, A/B Testing, CI/CD, Agile\n",
      "\n",
      "Cloud & Tech: AWS Cloud Practitioner Certification (in progress), LLMs (Whisper, GPT-Neo, LoRA)\n",
      "\n",
      "WORK EXPERIENCE\n",
      "\n",
      "Software Developer Intern - Decillion Digital Ltd, Leicester, United Kingdom (Hybrid) May 2024 - August 2024\n",
      "\n",
      "Global IT Services and Solutions\n",
      "\n",
      "â€¢ Developed an AI Powered CV parsing system (Python, Flask, spaCy), reducing 3rd party dependency.\n",
      "\n",
      "â€¢ Designed and integrated REST APIs, enabling seamless data exchange with existing HR system.\n",
      "\n",
      "â€¢ Optimized ATS workflows, increasing Resume Processing efficiency by 45%.\n",
      "\n",
      "â€¢ Collaborated with Agile Teams and used version control and CI/CD practices for smooth integration and deployment.\n",
      "\n",
      "PROJECTS\n",
      "\n",
      "Companion Tuning: GPT-Powered Voice AI for AR/VR March 2025 - April 2025\n",
      "\n",
      "Dublin, Ireland\n",
      "\n",
      "â€¢ Built a real-time AI voice companion in AR/VR using Unity and WebSocket-based Python backend.\n",
      "\n",
      "â€¢ Set the Unity Scenes and Animations, fine-tuned GPT-Neo (125M) with LoRA for personalized, low-latency conversation.\n",
      "\n",
      "â€¢ Used Whisper (speech-to-text) and gTTS (speech synthesis) for smooth speech interaction.\n",
      "\n",
      "â€¢ Deployed lightweight, emotionally responsive LLMs on local GPU for immersive experience.\n",
      "\n",
      "Optical Amplifier Gain Prediction using Machine Learning Algorithms January 2025 â€“ April 2025\n",
      "\n",
      "Dublin, Ireland\n",
      "\n",
      "â€¢ Modelled EDFA optical amplifier behaviour using ML Algorithms such as LightGBM, XGBoost, and Neural Networks.\n",
      "\n",
      "â€¢ Compared prediction accuracy under varying channel loading; Neural Networks showed highest accuracy with Mean Absolute Error\n",
      "\n",
      "0.08 dB.\n",
      "\n",
      "â€¢ Demonstrated MLâ€™s role in optimizing signal amplification in optical telecommunications.\n",
      "\n",
      "Breast Cancer Tumor Classification & Segmentation November 2024 - November 2024\n",
      "\n",
      "Dublin, Ireland\n",
      "\n",
      "â€¢ Developed deep learning models for breast cancer detection, achieving 81.01% accuracy with MobileNetV2 and 73.11% F1 score\n",
      "\n",
      "using U-Net with ultrasound scans in Python (TensorFlow/Keras).\n",
      "\n",
      "â€¢ Implemented data preprocessing techniques such as normalization and augmentation, improving model generalization and robustness\n",
      "\n",
      "to real world data.\n",
      "\n",
      "â€¢ Built an interactive visualization tool using matplotlib, to analyze model predictions and tumor segmentation outputs effectively.\n",
      "\n",
      "CERTIFICATIONS\n",
      "\n",
      "Mathematics for Machine Learning\n",
      "\n",
      "Coursera September 2024\n",
      "\n",
      "Goethe-Zertifikat A1: Fit in Deutsch 1 (Basic German Language Certification)\n",
      "\n",
      "Goethe Institut Indien March 2017\n",
      "\n",
      "PUBLICATIONS\n",
      "\n",
      "International Conference on Intelligent and Fuzzy Systems, Springer Aug 17, 2023\n",
      "\n",
      "Pathfinding with Dynamic Obstacles April 2023 - August 2023\n",
      "\n",
      "Developed a dynamic A* search algorithm with Manhattan heuristic for efficient maze navigation. Tested on grids from 10x10 to 100x100\n",
      "\n",
      "with varying obstacle densities, reliably identifying the shortest path and demonstrating robust performance in diverse scenarios.\n",
      "\n",
      "EDUCATION\n",
      "\n",
      "Trinity College Dublin September 2021 - Present\n",
      "\n",
      "Ireland\n",
      "\n",
      "Bachelor's Degree in Computer Engineering\n",
      "\n",
      "LANGUAGES\n",
      "\n",
      "English â€“ Fluent\n",
      "\n",
      "Hindi, Marathi â€“ Native\n",
      "\n",
      "German â€“ Beginner\n"
     ]
    }
   ],
   "source": [
    "file = open('ATS_Resume.txt','r')\n",
    "\n",
    "while True:\n",
    "    line=file.readline()\n",
    "    if not line:\n",
    "        break\n",
    "    print(line)\n",
    "file.close()"
   ]
  },
  {
   "cell_type": "code",
   "execution_count": 14,
   "id": "01a0a758",
   "metadata": {},
   "outputs": [
    {
     "name": "stdout",
     "output_type": "stream",
     "text": [
      "L PATIL\n",
      "Tolka Point Campus, Dublin, D01 W2R1, Ireland\n",
      "+353 892128452\n",
      "anshulpatil619@gmail.com\n",
      "https://www.linkedin.com/in/anshul-patil-529440295/\n",
      "https://github.com/Exzelius\n",
      "PROFILE\n",
      "Computer Engineering graduate from Trinity College Dublin with a strong foundation in AI, full-stack development, and data-driven\n",
      "problem solving. Passionate in designing innovative intelligent systems and deploying end-to-end solutions using modern frameworks.\n",
      "Published AI researcher committed to delivering scalable, real-world software solutions in cross-functional teams.\n",
      "SKILLS\n",
      "Programming: Python, JavaScript, C++, SQL\n",
      "AI & Data Science: TensorFlow, PyTorch, Keras, scikit-learn, NumPy, Pandas, OpenCV, Matplotlib\n",
      "Web Development & APIs: React.js, Flask, Node.js, HTML5, CSS, REST API design\n",
      "Databases: MySQL, Oracle\n",
      "Tools & Infra: Git, Docker, Heroku, Render, Postman, Linux, Unity\n",
      "Testing & Methodologies: Unit Testing, A/B Testing, CI/CD, Agile\n",
      "Cloud & Tech: AWS Cloud Practitioner Certification (in progress), LLMs (Whisper, GPT-Neo, LoRA)\n",
      "WORK EXPERIENCE\n",
      "Software Developer Intern - Decillion Digital Ltd, Leicester, United Kingdom (Hybrid) May 2024 - August 2024\n",
      "Global IT Services and Solutions\n",
      "â€¢ Developed an AI Powered CV parsing system (Python, Flask, spaCy), reducing 3rd party dependency.\n",
      "â€¢ Designed and integrated REST APIs, enabling seamless data exchange with existing HR system.\n",
      "â€¢ Optimized ATS workflows, increasing Resume Processing efficiency by 45%.\n",
      "â€¢ Collaborated with Agile Teams and used version control and CI/CD practices for smooth integration and deployment.\n",
      "PROJECTS\n",
      "Companion Tuning: GPT-Powered Voice AI for AR/VR March 2025 - April 2025\n",
      "Dublin, Ireland\n",
      "â€¢ Built a real-time AI voice companion in AR/VR using Unity and WebSocket-based Python backend.\n",
      "â€¢ Set the Unity Scenes and Animations, fine-tuned GPT-Neo (125M) with LoRA for personalized, low-latency conversation.\n",
      "â€¢ Used Whisper (speech-to-text) and gTTS (speech synthesis) for smooth speech interaction.\n",
      "â€¢ Deployed lightweight, emotionally responsive LLMs on local GPU for immersive experience.\n",
      "Optical Amplifier Gain Prediction using Machine Learning Algorithms January 2025 â€“ April 2025\n",
      "Dublin, Ireland\n",
      "â€¢ Modelled EDFA optical amplifier behaviour using ML Algorithms such as LightGBM, XGBoost, and Neural Networks.\n",
      "â€¢ Compared prediction accuracy under varying channel loading; Neural Networks showed highest accuracy with Mean Absolute Error\n",
      "0.08 dB.\n",
      "â€¢ Demonstrated MLâ€™s role in optimizing signal amplification in optical telecommunications.\n",
      "Breast Cancer Tumor Classification & Segmentation November 2024 - November 2024\n",
      "Dublin, Ireland\n",
      "â€¢ Developed deep learning models for breast cancer detection, achieving 81.01% accuracy with MobileNetV2 and 73.11% F1 score\n",
      "using U-Net with ultrasound scans in Python (TensorFlow/Keras).\n",
      "â€¢ Implemented data preprocessing techniques such as normalization and augmentation, improving model generalization and robustness\n",
      "to real world data.\n",
      "â€¢ Built an interactive visualization tool using matplotlib, to analyze model predictions and tumor segmentation outputs effectively.\n",
      "CERTIFICATIONS\n",
      "Mathematics for Machine Learning\n",
      "Coursera September 2024\n",
      "Goethe-Zertifikat A1: Fit in Deutsch 1 (Basic German Language Certification)\n",
      "Goethe Institut Indien March 2017\n",
      "PUBLICATIONS\n",
      "International Conference on Intelligent and Fuzzy Systems, Springer Aug 17, 2023\n",
      "Pathfinding with Dynamic Obstacles April 2023 - August 2023\n",
      "Developed a dynamic A* search algorithm with Manhattan heuristic for efficient maze navigation. Tested on grids from 10x10 to 100x100\n",
      "with varying obstacle densities, reliably identifying the shortest path and demonstrating robust performance in diverse scenarios.\n",
      "EDUCATION\n",
      "Trinity College Dublin September 2021 - Present\n",
      "Ireland\n",
      "Bachelor's Degree in Computer Engineering\n",
      "LANGUAGES\n",
      "English â€“ Fluent\n",
      "Hindi, Marathi â€“ Native\n",
      "German â€“ Beginner\n"
     ]
    }
   ],
   "source": [
    "with open('ATS_Resume.txt', 'r') as file:\n",
    "    file.seek(5)  # Move to the 6th byte in the file\n",
    "    print(file.read())  # Print the rest of the file from that position"
   ]
  },
  {
   "cell_type": "code",
   "execution_count": 16,
   "id": "d85ea788",
   "metadata": {},
   "outputs": [
    {
     "name": "stdout",
     "output_type": "stream",
     "text": [
      "ANSHU\n"
     ]
    }
   ],
   "source": [
    "with open('ATS_Resume.txt', 'r') as file:\n",
    "    characters=file.read(5)\n",
    "    print(characters)"
   ]
  },
  {
   "cell_type": "code",
   "execution_count": 49,
   "id": "88a0f25f",
   "metadata": {},
   "outputs": [
    {
     "name": "stdout",
     "output_type": "stream",
     "text": [
      "['ANSHUL PATIL\\n', 'Tolka Point Campus, Dublin, D01 W2R1, Ireland\\n', '+353 892128452\\n', 'anshulpatil619@gmail.com\\n', 'https://www.linkedin.com/in/anshul-patil-529440295/\\n', 'https://github.com/Exzelius\\n', 'PROFILE\\n', 'Computer Engineering graduate from Trinity College Dublin with a strong foundation in AI, full-stack development, and data-driven\\n', 'problem solving. Passionate in designing innovative intelligent systems and deploying end-to-end solutions using modern frameworks.\\n', 'Published AI researcher committed to delivering scalable, real-world software solutions in cross-functional teams.\\n', 'SKILLS\\n', 'Programming: Python, JavaScript, C++, SQL\\n', 'AI & Data Science: TensorFlow, PyTorch, Keras, scikit-learn, NumPy, Pandas, OpenCV, Matplotlib\\n', 'Web Development & APIs: React.js, Flask, Node.js, HTML5, CSS, REST API design\\n', 'Databases: MySQL, Oracle\\n', 'Tools & Infra: Git, Docker, Heroku, Render, Postman, Linux, Unity\\n', 'Testing & Methodologies: Unit Testing, A/B Testing, CI/CD, Agile\\n', 'Cloud & Tech: AWS Cloud Practitioner Certification (in progress), LLMs (Whisper, GPT-Neo, LoRA)\\n', 'WORK EXPERIENCE\\n', 'Software Developer Intern - Decillion Digital Ltd, Leicester, United Kingdom (Hybrid) May 2024 - August 2024\\n', 'Global IT Services and Solutions\\n', 'â€¢ Developed an AI Powered CV parsing system (Python, Flask, spaCy), reducing 3rd party dependency.\\n', 'â€¢ Designed and integrated REST APIs, enabling seamless data exchange with existing HR system.\\n', 'â€¢ Optimized ATS workflows, increasing Resume Processing efficiency by 45%.\\n', 'â€¢ Collaborated with Agile Teams and used version control and CI/CD practices for smooth integration and deployment.\\n', 'PROJECTS\\n', 'Companion Tuning: GPT-Powered Voice AI for AR/VR March 2025 - April 2025\\n', 'Dublin, Ireland\\n', 'â€¢ Built a real-time AI voice companion in AR/VR using Unity and WebSocket-based Python backend.\\n', 'â€¢ Set the Unity Scenes and Animations, fine-tuned GPT-Neo (125M) with LoRA for personalized, low-latency conversation.\\n', 'â€¢ Used Whisper (speech-to-text) and gTTS (speech synthesis) for smooth speech interaction.\\n', 'â€¢ Deployed lightweight, emotionally responsive LLMs on local GPU for immersive experience.\\n', 'Optical Amplifier Gain Prediction using Machine Learning Algorithms January 2025 â€“ April 2025\\n', 'Dublin, Ireland\\n', 'â€¢ Modelled EDFA optical amplifier behaviour using ML Algorithms such as LightGBM, XGBoost, and Neural Networks.\\n', 'â€¢ Compared prediction accuracy under varying channel loading; Neural Networks showed highest accuracy with Mean Absolute Error\\n', '0.08 dB.\\n', 'â€¢ Demonstrated MLâ€™s role in optimizing signal amplification in optical telecommunications.\\n', 'Breast Cancer Tumor Classification & Segmentation November 2024 - November 2024\\n', 'Dublin, Ireland\\n', 'â€¢ Developed deep learning models for breast cancer detection, achieving 81.01% accuracy with MobileNetV2 and 73.11% F1 score\\n', 'using U-Net with ultrasound scans in Python (TensorFlow/Keras).\\n', 'â€¢ Implemented data preprocessing techniques such as normalization and augmentation, improving model generalization and robustness\\n', 'to real world data.\\n', 'â€¢ Built an interactive visualization tool using matplotlib, to analyze model predictions and tumor segmentation outputs effectively.\\n', 'CERTIFICATIONS\\n', 'Mathematics for Machine Learning\\n', 'Coursera September 2024\\n', 'Goethe-Zertifikat A1: Fit in Deutsch 1 (Basic German Language Certification)\\n', 'Goethe Institut Indien March 2017\\n', 'PUBLICATIONS\\n', 'International Conference on Intelligent and Fuzzy Systems, Springer Aug 17, 2023\\n', 'Pathfinding with Dynamic Obstacles April 2023 - August 2023\\n', 'Developed a dynamic A* search algorithm with Manhattan heuristic for efficient maze navigation. Tested on grids from 10x10 to 100x100\\n', 'with varying obstacle densities, reliably identifying the shortest path and demonstrating robust performance in diverse scenarios.\\n', 'EDUCATION\\n', 'Trinity College Dublin September 2021 - Present\\n', 'Ireland\\n', \"Bachelor's Degree in Computer Engineering\\n\", 'LANGUAGES\\n', 'English â€“ Fluent\\n', 'Hindi, Marathi â€“ Native\\n', 'German â€“ Beginner']\n"
     ]
    }
   ],
   "source": [
    "# Read all lines and save as a list\n",
    "\n",
    "with open('ATS_Resume.txt', 'r') as file:\n",
    "    FileAsList=file.readlines()\n",
    "    # FileAsList = FileAsList[1:]\n",
    "    print(FileAsList)\n",
    "    # print(FileAsList[0])"
   ]
  },
  {
   "cell_type": "markdown",
   "id": "cd433257",
   "metadata": {},
   "source": [
    "If you use open('Example2.txt', 'w'), it will always create a new file if it does not exist.\n",
    "If the file already exists, it will overwrite (erase) the existing file and start fresh.\n",
    "\n",
    "So, using 'w' mode is destructive for existing files—be careful!\n",
    "If you want to add to an existing file without deleting its contents, use 'a' (append) mode instead."
   ]
  },
  {
   "cell_type": "code",
   "execution_count": null,
   "id": "3ac35bd1",
   "metadata": {},
   "outputs": [
    {
     "name": "stdout",
     "output_type": "stream",
     "text": [
      "This is my Era!\n",
      "Bow before me!\n",
      "\n"
     ]
    }
   ],
   "source": [
    "\n",
    "with open('WritingToAFile.txt','w') as file1:\n",
    "    file1.write('This is my Era!\\n')\n",
    "    file1.write('Bow before me!\\n')\n",
    "\n",
    "with open('WritingToAFile.txt','r') as file2:\n",
    "    stuff=file2.read()\n",
    "    print(stuff)\n"
   ]
  },
  {
   "cell_type": "code",
   "execution_count": 39,
   "id": "26340a1a",
   "metadata": {},
   "outputs": [],
   "source": [
    "# List of lines to write to the file\n",
    "Lines = [\"This is line 1\", \"This is line 2\", \"This is line 3\"]\n",
    "\n",
    "# Create a new file Example3.txt for writing\n",
    "with open('Example3.txt', 'w') as file2:\n",
    "    for line in Lines:\n",
    "        file2.write(line + \"\\n\")\n",
    "    # file2 is automatically closed when the 'with' block exits"
   ]
  },
  {
   "cell_type": "code",
   "execution_count": 40,
   "id": "dff07f12",
   "metadata": {},
   "outputs": [
    {
     "name": "stdout",
     "output_type": "stream",
     "text": [
      "This is my Era!\n",
      "Bow before me!\n",
      "Gone are the days of cruelty, I have taken matter in my own Hands. Rise for your new God!\n",
      "\n"
     ]
    }
   ],
   "source": [
    "with open('WritingToAFile.txt','a') as file1:\n",
    "    file1.write('Gone are the days of cruelty, I have taken matter in my own Hands. Rise for your new God!\\n')\n",
    "\n",
    "with open('WritingToAFile.txt','r') as file2:\n",
    "    stuff=file2.read()\n",
    "    print(stuff)"
   ]
  },
  {
   "cell_type": "markdown",
   "id": "39f0cd2b",
   "metadata": {},
   "source": [
    "## Copying contents from one file to another"
   ]
  },
  {
   "cell_type": "code",
   "execution_count": 42,
   "id": "5964862b",
   "metadata": {},
   "outputs": [],
   "source": [
    "# Copy of WritingToAFile\n",
    "\n",
    "with open('WritingToAFile.txt','r') as source:\n",
    "\n",
    "    with open('WritingToAFileCopy.txt','w') as destination:\n",
    "\n",
    "        for line in source:\n",
    "            destination.write(line)"
   ]
  },
  {
   "cell_type": "raw",
   "id": "453ac863",
   "metadata": {
    "vscode": {
     "languageId": "raw"
    }
   },
   "source": [
    "File modes in Python (syntax and use cases)\n",
    "\n",
    "The following table provides an overview of different file modes, their syntax, and common use cases. Understanding these modes is essential when working with files in Python for various data manipulation tasks.\n",
    "Mode \tSyntax \tDescription\n",
    "‘r’ \t'r' \tRead mode. Opens an existing file for reading. Raises an error if the file doesn't exist.\n",
    "‘w’ \t'w' \tWrite mode. Creates a new file for writing. Overwrites the file if it already exists.\n",
    "‘a’ \t'a' \tAppend mode. Opens a file for appending data. Creates the file if it doesn't exist.\n",
    "‘x’ \t'x' \tExclusive creation mode. Creates a new file for writing but raises an error if the file already exists.\n",
    "‘rb’ \t'rb' \tRead binary mode. Opens an existing binary file for reading.\n",
    "‘wb’ \t'wb' \tWrite binary mode. Creates a new binary file for writing.\n",
    "‘ab’ \t'ab' \tAppend binary mode. Opens a binary file for appending data.\n",
    "‘xb’ \t'xb' \tExclusive binary creation mode. Creates a new binary file for writing but raises an error if it already exists.\n",
    "‘rt’ \t'rt' \tRead text mode. Opens an existing text file for reading. (Default for text files)\n",
    "‘wt’ \t'wt' \tWrite text mode. Creates a new text file for writing. (Default for text files)\n",
    "‘at’ \t'at' \tAppend text mode. Opens a text file for appending data. (Default for text files)\n",
    "‘xt’ \t'xt' \tExclusive text creation mode. Creates a new text file for writing but raises an error if it already exists.\n",
    "‘r+’ \t'r+' \tRead and write mode. Opens an existing file for both reading and writing.\n",
    "‘w+’ \t'w+' \tWrite and read mode. Creates a new file for reading and writing. Overwrites the file if it already exists.\n",
    "‘a+’ \t'a+' \tAppend and read mode. Opens a file for both appending and reading. Creates the file if it doesn't exist.\n",
    "‘x+’ \t'x+' \tExclusive creation and read/write mode. Creates a new file for reading and writing but raises an error if it already exists."
   ]
  },
  {
   "cell_type": "markdown",
   "id": "abb16582",
   "metadata": {},
   "source": [
    "## Exercise"
   ]
  },
  {
   "cell_type": "code",
   "execution_count": 51,
   "id": "f422bc13",
   "metadata": {},
   "outputs": [],
   "source": [
    "#Run this prior to starting the exercise\n",
    "from random import randint as rnd\n",
    "\n",
    "memReg = '/members.txt'\n",
    "exReg = '/inactive.txt'\n",
    "fee =('yes','no')\n",
    "\n",
    "def genFiles(current,old):\n",
    "    with open(current,'w+') as writefile: \n",
    "        writefile.write('Membership No  Date Joined  Active  \\n')\n",
    "        data = \"{:^13}  {:<11}  {:<6}\\n\"\n",
    "\n",
    "        for rowno in range(20):\n",
    "            date = str(rnd(2015,2020))+ '-' + str(rnd(1,12))+'-'+str(rnd(1,25))\n",
    "            writefile.write(data.format(rnd(10000,99999),date,fee[rnd(0,1)]))\n",
    "\n",
    "\n",
    "    with open(old,'w+') as writefile: \n",
    "        writefile.write('Membership No  Date Joined  Active  \\n')\n",
    "        data = \"{:^13}  {:<11}  {:<6}\\n\"\n",
    "        for rowno in range(3):\n",
    "            date = str(rnd(2015,2020))+ '-' + str(rnd(1,12))+'-'+str(rnd(1,25))\n",
    "            writefile.write(data.format(rnd(10000,99999),date,fee[1]))\n",
    "\n",
    "\n",
    "# Use relative paths instead of absolute paths starting with '/'\n",
    "memReg = 'members.txt'\n",
    "exReg = 'inactive.txt'\n",
    "\n",
    "genFiles(memReg, exReg)\n"
   ]
  },
  {
   "cell_type": "code",
   "execution_count": 56,
   "id": "73d64406",
   "metadata": {},
   "outputs": [
    {
     "name": "stdout",
     "output_type": "stream",
     "text": [
      "Active Members: \n",
      "\n",
      "\n",
      "Membership No  Date Joined  Active  \n",
      "    57861      2015-12-19   yes   \n",
      "    21454      2020-10-5    yes   \n",
      "    58436      2020-12-10   yes   \n",
      "    79714      2018-2-25    yes   \n",
      "    94040      2017-6-2     yes   \n",
      "    26055      2015-1-5     yes   \n",
      "    10737      2020-6-21    yes   \n",
      "    59139      2016-8-5     yes   \n",
      "\n",
      "Inactive Members: \n",
      "\n",
      "\n",
      "Membership No  Date Joined  Active  \n",
      "    82532      2019-4-12    no    \n",
      "    28792      2018-4-10    no    \n",
      "    58806      2017-8-22    no    \n",
      "    71777      2018-2-18    no    \n",
      "    14731      2017-10-17   no    \n",
      "    33705      2015-8-1     no    \n",
      "    78015      2020-11-23   no    \n",
      "    77547      2020-8-2     no    \n",
      "    46357      2016-4-13    no    \n",
      "    24524      2015-10-24   no    \n",
      "    84570      2015-7-4     no    \n",
      "    59768      2018-6-25    no    \n",
      "    89968      2017-8-20    no    \n",
      "    21859      2019-5-13    no    \n",
      "    49147      2019-12-2    no    \n",
      "\n"
     ]
    }
   ],
   "source": [
    "  \n",
    "'''\n",
    "The two arguments for this function are the files:\n",
    "    - currentMem: File containing list of current members\n",
    "    - exMem: File containing list of old members\n",
    "    \n",
    "    This function should remove all rows from currentMem containing 'no' \n",
    "    in the 'Active' column and appends them to exMem.\n",
    "    '''\n",
    "def cleanFiles(currentMem, exMem):\n",
    "    # TODO: Open the currentMem file as in r+ mode\n",
    "    with open(currentMem, 'r+') as cur:\n",
    "        #TODO: Open the exMem file in a+ mode\n",
    "        with open(exMem, 'a+') as ex:\n",
    "            #TODO: Read each member in the currentMem (1 member per row) file into a list.\n",
    "            # Hint: Recall that the first line in the file is the header.\n",
    "            curMemList = cur.readlines()\n",
    "            header = curMemList[0]\n",
    "            curMemList = curMemList[1:]\n",
    "            #TODO: iterate through the members and create a new list of the innactive members\n",
    "            \n",
    "            # Go to the beginning of the currentMem file\n",
    "            # TODO: Iterate through the members list. \n",
    "            # If a member is inactive, add them to exMem, otherwise write them into currentMem\n",
    "            activeMemList = []\n",
    "            for Mem in curMemList:\n",
    "                MemData = Mem.split()\n",
    "                if MemData[2].lower()==\"no\":\n",
    "                    ex.write(Mem)\n",
    "                else:\n",
    "                    activeMemList.append(Mem)\n",
    "                    \n",
    "            cur.seek(0)\n",
    "            cur.write(header)\n",
    "            for Mem in activeMemList:\n",
    "                cur.write(Mem)\n",
    "            cur.truncate()\n",
    "    \n",
    "        \n",
    "\n",
    "\n",
    "# The code below is to help you view the files.\n",
    "# Do not modify this code for this exercise.\n",
    "memReg = 'members.txt'\n",
    "exReg = 'inactive.txt'\n",
    "cleanFiles(memReg,exReg)\n",
    "\n",
    "\n",
    "headers = \"Membership No  Date Joined  Active  \\n\"\n",
    "with open(memReg,'r') as readFile:\n",
    "    print(\"Active Members: \\n\\n\")\n",
    "    print(readFile.read())\n",
    "    \n",
    "with open(exReg,'r') as readFile:\n",
    "    print(\"Inactive Members: \\n\\n\")\n",
    "    print(readFile.read())\n",
    "                \n",
    "    "
   ]
  },
  {
   "cell_type": "markdown",
   "id": "8071a302",
   "metadata": {},
   "source": [
    "### Exercise 1: Pandas: DataFrame and Series \n",
    "\n",
    "**Pandas** is a popular library for data analysis built on top of the Python programming language. Pandas generally provide two data structures for manipulating data, They are: \n",
    " \n",
    "* DataFrame\n",
    "* Series\n",
    "\n",
    "A **DataFrame** is a two-dimensional data structure, i.e., data is aligned in a tabular fashion in rows and columns.\n",
    "\n",
    "* A Pandas DataFrame will be created by loading the datasets from existing storage. \n",
    "* Storage can be SQL Database, CSV file, Excel file, etc. \n",
    "* It can also be created from the lists, dictionaries, and from a list of dictionaries.\n",
    "\n",
    "**Series** represents a one-dimensional array of indexed data.\n",
    "It has two main components :\n",
    "1. An array of actual data.\n",
    "2. An associated array of indexes or data labels.\n",
    "\n",
    "The index is used to access individual data values. You can also get a column of a dataframe as a **Series**. You can think of a Pandas series as a 1-D dataframe. \n"
   ]
  },
  {
   "cell_type": "code",
   "execution_count": 57,
   "id": "63332c0f",
   "metadata": {},
   "outputs": [],
   "source": [
    "# let us import the Pandas Library\n",
    "import pandas as pd"
   ]
  },
  {
   "cell_type": "code",
   "execution_count": 58,
   "id": "fd24405b",
   "metadata": {},
   "outputs": [
    {
     "data": {
      "text/html": [
       "<div>\n",
       "<style scoped>\n",
       "    .dataframe tbody tr th:only-of-type {\n",
       "        vertical-align: middle;\n",
       "    }\n",
       "\n",
       "    .dataframe tbody tr th {\n",
       "        vertical-align: top;\n",
       "    }\n",
       "\n",
       "    .dataframe thead th {\n",
       "        text-align: right;\n",
       "    }\n",
       "</style>\n",
       "<table border=\"1\" class=\"dataframe\">\n",
       "  <thead>\n",
       "    <tr style=\"text-align: right;\">\n",
       "      <th></th>\n",
       "      <th>Name</th>\n",
       "      <th>ID</th>\n",
       "      <th>Department</th>\n",
       "      <th>Salary</th>\n",
       "    </tr>\n",
       "  </thead>\n",
       "  <tbody>\n",
       "    <tr>\n",
       "      <th>0</th>\n",
       "      <td>Rose</td>\n",
       "      <td>1</td>\n",
       "      <td>Architect Group</td>\n",
       "      <td>100000</td>\n",
       "    </tr>\n",
       "    <tr>\n",
       "      <th>1</th>\n",
       "      <td>John</td>\n",
       "      <td>2</td>\n",
       "      <td>Software Group</td>\n",
       "      <td>80000</td>\n",
       "    </tr>\n",
       "    <tr>\n",
       "      <th>2</th>\n",
       "      <td>Jane</td>\n",
       "      <td>3</td>\n",
       "      <td>Design Team</td>\n",
       "      <td>50000</td>\n",
       "    </tr>\n",
       "    <tr>\n",
       "      <th>3</th>\n",
       "      <td>Mary</td>\n",
       "      <td>4</td>\n",
       "      <td>Infrastructure</td>\n",
       "      <td>60000</td>\n",
       "    </tr>\n",
       "  </tbody>\n",
       "</table>\n",
       "</div>"
      ],
      "text/plain": [
       "   Name  ID       Department  Salary\n",
       "0  Rose   1  Architect Group  100000\n",
       "1  John   2   Software Group   80000\n",
       "2  Jane   3      Design Team   50000\n",
       "3  Mary   4   Infrastructure   60000"
      ]
     },
     "execution_count": 58,
     "metadata": {},
     "output_type": "execute_result"
    }
   ],
   "source": [
    "#Define a dictionary 'x'\n",
    "\n",
    "x = {'Name': ['Rose','John', 'Jane', 'Mary'], 'ID': [1, 2, 3, 4], 'Department': ['Architect Group', 'Software Group', 'Design Team', 'Infrastructure'], \n",
    "      'Salary':[100000, 80000, 50000, 60000]}\n",
    "\n",
    "#casting the dictionary to a DataFrame\n",
    "df = pd.DataFrame(x)\n",
    "\n",
    "#display the result df\n",
    "df"
   ]
  },
  {
   "cell_type": "code",
   "execution_count": 64,
   "id": "12287558",
   "metadata": {},
   "outputs": [
    {
     "data": {
      "text/html": [
       "<div>\n",
       "<style scoped>\n",
       "    .dataframe tbody tr th:only-of-type {\n",
       "        vertical-align: middle;\n",
       "    }\n",
       "\n",
       "    .dataframe tbody tr th {\n",
       "        vertical-align: top;\n",
       "    }\n",
       "\n",
       "    .dataframe thead th {\n",
       "        text-align: right;\n",
       "    }\n",
       "</style>\n",
       "<table border=\"1\" class=\"dataframe\">\n",
       "  <thead>\n",
       "    <tr style=\"text-align: right;\">\n",
       "      <th></th>\n",
       "      <th>ID</th>\n",
       "    </tr>\n",
       "  </thead>\n",
       "  <tbody>\n",
       "    <tr>\n",
       "      <th>0</th>\n",
       "      <td>1</td>\n",
       "    </tr>\n",
       "    <tr>\n",
       "      <th>1</th>\n",
       "      <td>2</td>\n",
       "    </tr>\n",
       "    <tr>\n",
       "      <th>2</th>\n",
       "      <td>3</td>\n",
       "    </tr>\n",
       "    <tr>\n",
       "      <th>3</th>\n",
       "      <td>4</td>\n",
       "    </tr>\n",
       "  </tbody>\n",
       "</table>\n",
       "</div>"
      ],
      "text/plain": [
       "   ID\n",
       "0   1\n",
       "1   2\n",
       "2   3\n",
       "3   4"
      ]
     },
     "execution_count": 64,
     "metadata": {},
     "output_type": "execute_result"
    }
   ],
   "source": [
    "x=df[['ID']]\n",
    "x"
   ]
  },
  {
   "cell_type": "code",
   "execution_count": 65,
   "id": "44edf345",
   "metadata": {},
   "outputs": [
    {
     "data": {
      "text/plain": [
       "pandas.core.frame.DataFrame"
      ]
     },
     "execution_count": 65,
     "metadata": {},
     "output_type": "execute_result"
    }
   ],
   "source": [
    "type(x)"
   ]
  },
  {
   "cell_type": "code",
   "execution_count": 66,
   "id": "266bf326",
   "metadata": {},
   "outputs": [
    {
     "data": {
      "text/html": [
       "<div>\n",
       "<style scoped>\n",
       "    .dataframe tbody tr th:only-of-type {\n",
       "        vertical-align: middle;\n",
       "    }\n",
       "\n",
       "    .dataframe tbody tr th {\n",
       "        vertical-align: top;\n",
       "    }\n",
       "\n",
       "    .dataframe thead th {\n",
       "        text-align: right;\n",
       "    }\n",
       "</style>\n",
       "<table border=\"1\" class=\"dataframe\">\n",
       "  <thead>\n",
       "    <tr style=\"text-align: right;\">\n",
       "      <th></th>\n",
       "      <th>Department</th>\n",
       "      <th>Salary</th>\n",
       "      <th>ID</th>\n",
       "    </tr>\n",
       "  </thead>\n",
       "  <tbody>\n",
       "    <tr>\n",
       "      <th>0</th>\n",
       "      <td>Architect Group</td>\n",
       "      <td>100000</td>\n",
       "      <td>1</td>\n",
       "    </tr>\n",
       "    <tr>\n",
       "      <th>1</th>\n",
       "      <td>Software Group</td>\n",
       "      <td>80000</td>\n",
       "      <td>2</td>\n",
       "    </tr>\n",
       "    <tr>\n",
       "      <th>2</th>\n",
       "      <td>Design Team</td>\n",
       "      <td>50000</td>\n",
       "      <td>3</td>\n",
       "    </tr>\n",
       "    <tr>\n",
       "      <th>3</th>\n",
       "      <td>Infrastructure</td>\n",
       "      <td>60000</td>\n",
       "      <td>4</td>\n",
       "    </tr>\n",
       "  </tbody>\n",
       "</table>\n",
       "</div>"
      ],
      "text/plain": [
       "        Department  Salary  ID\n",
       "0  Architect Group  100000   1\n",
       "1   Software Group   80000   2\n",
       "2      Design Team   50000   3\n",
       "3   Infrastructure   60000   4"
      ]
     },
     "execution_count": 66,
     "metadata": {},
     "output_type": "execute_result"
    }
   ],
   "source": [
    "#Retrieving the Department, Salary and ID columns and assigning it to a variable z\n",
    "\n",
    "z = df[['Department','Salary','ID']]\n",
    "z"
   ]
  },
  {
   "cell_type": "code",
   "execution_count": 67,
   "id": "930a4956",
   "metadata": {},
   "outputs": [
    {
     "data": {
      "text/plain": [
       "'Rose'"
      ]
     },
     "execution_count": 67,
     "metadata": {},
     "output_type": "execute_result"
    }
   ],
   "source": [
    "# Access the value on the first row and the first column\n",
    "\n",
    "df.iloc[0, 0]"
   ]
  },
  {
   "cell_type": "code",
   "execution_count": 68,
   "id": "622014b1",
   "metadata": {},
   "outputs": [
    {
     "data": {
      "text/plain": [
       "'Architect Group'"
      ]
     },
     "execution_count": 68,
     "metadata": {},
     "output_type": "execute_result"
    }
   ],
   "source": [
    "# Access the value on the first row and the third column\n",
    "\n",
    "df.iloc[0,2]"
   ]
  },
  {
   "cell_type": "code",
   "execution_count": 69,
   "id": "78918d64",
   "metadata": {},
   "outputs": [
    {
     "data": {
      "text/plain": [
       "100000"
      ]
     },
     "execution_count": 69,
     "metadata": {},
     "output_type": "execute_result"
    }
   ],
   "source": [
    "# Access the column using the name\n",
    "\n",
    "df.loc[0, 'Salary']"
   ]
  },
  {
   "cell_type": "code",
   "execution_count": 70,
   "id": "026115a5",
   "metadata": {},
   "outputs": [],
   "source": [
    "df2=df\n",
    "df2=df2.set_index(\"Name\")"
   ]
  },
  {
   "cell_type": "code",
   "execution_count": 71,
   "id": "df01c9ae",
   "metadata": {},
   "outputs": [
    {
     "data": {
      "text/html": [
       "<div>\n",
       "<style scoped>\n",
       "    .dataframe tbody tr th:only-of-type {\n",
       "        vertical-align: middle;\n",
       "    }\n",
       "\n",
       "    .dataframe tbody tr th {\n",
       "        vertical-align: top;\n",
       "    }\n",
       "\n",
       "    .dataframe thead th {\n",
       "        text-align: right;\n",
       "    }\n",
       "</style>\n",
       "<table border=\"1\" class=\"dataframe\">\n",
       "  <thead>\n",
       "    <tr style=\"text-align: right;\">\n",
       "      <th></th>\n",
       "      <th>ID</th>\n",
       "      <th>Department</th>\n",
       "      <th>Salary</th>\n",
       "    </tr>\n",
       "    <tr>\n",
       "      <th>Name</th>\n",
       "      <th></th>\n",
       "      <th></th>\n",
       "      <th></th>\n",
       "    </tr>\n",
       "  </thead>\n",
       "  <tbody>\n",
       "    <tr>\n",
       "      <th>Rose</th>\n",
       "      <td>1</td>\n",
       "      <td>Architect Group</td>\n",
       "      <td>100000</td>\n",
       "    </tr>\n",
       "    <tr>\n",
       "      <th>John</th>\n",
       "      <td>2</td>\n",
       "      <td>Software Group</td>\n",
       "      <td>80000</td>\n",
       "    </tr>\n",
       "    <tr>\n",
       "      <th>Jane</th>\n",
       "      <td>3</td>\n",
       "      <td>Design Team</td>\n",
       "      <td>50000</td>\n",
       "    </tr>\n",
       "    <tr>\n",
       "      <th>Mary</th>\n",
       "      <td>4</td>\n",
       "      <td>Infrastructure</td>\n",
       "      <td>60000</td>\n",
       "    </tr>\n",
       "  </tbody>\n",
       "</table>\n",
       "</div>"
      ],
      "text/plain": [
       "      ID       Department  Salary\n",
       "Name                             \n",
       "Rose   1  Architect Group  100000\n",
       "John   2   Software Group   80000\n",
       "Jane   3      Design Team   50000\n",
       "Mary   4   Infrastructure   60000"
      ]
     },
     "execution_count": 71,
     "metadata": {},
     "output_type": "execute_result"
    }
   ],
   "source": [
    "#To display the first 5 rows of new dataframe\n",
    "df2.head()"
   ]
  },
  {
   "cell_type": "code",
   "execution_count": 72,
   "id": "0d9fe6fe",
   "metadata": {},
   "outputs": [
    {
     "data": {
      "text/plain": [
       "50000"
      ]
     },
     "execution_count": 72,
     "metadata": {},
     "output_type": "execute_result"
    }
   ],
   "source": [
    "#Now, let us access the column using the name\n",
    "df2.loc['Jane', 'Salary']"
   ]
  },
  {
   "cell_type": "code",
   "execution_count": 74,
   "id": "23a3ff6d",
   "metadata": {},
   "outputs": [
    {
     "data": {
      "text/html": [
       "<div>\n",
       "<style scoped>\n",
       "    .dataframe tbody tr th:only-of-type {\n",
       "        vertical-align: middle;\n",
       "    }\n",
       "\n",
       "    .dataframe tbody tr th {\n",
       "        vertical-align: top;\n",
       "    }\n",
       "\n",
       "    .dataframe thead th {\n",
       "        text-align: right;\n",
       "    }\n",
       "</style>\n",
       "<table border=\"1\" class=\"dataframe\">\n",
       "  <thead>\n",
       "    <tr style=\"text-align: right;\">\n",
       "      <th></th>\n",
       "      <th>Name</th>\n",
       "      <th>ID</th>\n",
       "      <th>Department</th>\n",
       "      <th>Salary</th>\n",
       "    </tr>\n",
       "  </thead>\n",
       "  <tbody>\n",
       "    <tr>\n",
       "      <th>0</th>\n",
       "      <td>Rose</td>\n",
       "      <td>1</td>\n",
       "      <td>Architect Group</td>\n",
       "      <td>100000</td>\n",
       "    </tr>\n",
       "    <tr>\n",
       "      <th>1</th>\n",
       "      <td>John</td>\n",
       "      <td>2</td>\n",
       "      <td>Software Group</td>\n",
       "      <td>80000</td>\n",
       "    </tr>\n",
       "    <tr>\n",
       "      <th>2</th>\n",
       "      <td>Jane</td>\n",
       "      <td>3</td>\n",
       "      <td>Design Team</td>\n",
       "      <td>50000</td>\n",
       "    </tr>\n",
       "    <tr>\n",
       "      <th>3</th>\n",
       "      <td>Mary</td>\n",
       "      <td>4</td>\n",
       "      <td>Infrastructure</td>\n",
       "      <td>60000</td>\n",
       "    </tr>\n",
       "  </tbody>\n",
       "</table>\n",
       "</div>"
      ],
      "text/plain": [
       "   Name  ID       Department  Salary\n",
       "0  Rose   1  Architect Group  100000\n",
       "1  John   2   Software Group   80000\n",
       "2  Jane   3      Design Team   50000\n",
       "3  Mary   4   Infrastructure   60000"
      ]
     },
     "execution_count": 74,
     "metadata": {},
     "output_type": "execute_result"
    }
   ],
   "source": [
    "df"
   ]
  },
  {
   "cell_type": "code",
   "execution_count": 73,
   "id": "77d4aa85",
   "metadata": {},
   "outputs": [
    {
     "data": {
      "text/html": [
       "<div>\n",
       "<style scoped>\n",
       "    .dataframe tbody tr th:only-of-type {\n",
       "        vertical-align: middle;\n",
       "    }\n",
       "\n",
       "    .dataframe tbody tr th {\n",
       "        vertical-align: top;\n",
       "    }\n",
       "\n",
       "    .dataframe thead th {\n",
       "        text-align: right;\n",
       "    }\n",
       "</style>\n",
       "<table border=\"1\" class=\"dataframe\">\n",
       "  <thead>\n",
       "    <tr style=\"text-align: right;\">\n",
       "      <th></th>\n",
       "      <th>Name</th>\n",
       "      <th>ID</th>\n",
       "      <th>Department</th>\n",
       "    </tr>\n",
       "  </thead>\n",
       "  <tbody>\n",
       "    <tr>\n",
       "      <th>0</th>\n",
       "      <td>Rose</td>\n",
       "      <td>1</td>\n",
       "      <td>Architect Group</td>\n",
       "    </tr>\n",
       "    <tr>\n",
       "      <th>1</th>\n",
       "      <td>John</td>\n",
       "      <td>2</td>\n",
       "      <td>Software Group</td>\n",
       "    </tr>\n",
       "  </tbody>\n",
       "</table>\n",
       "</div>"
      ],
      "text/plain": [
       "   Name  ID       Department\n",
       "0  Rose   1  Architect Group\n",
       "1  John   2   Software Group"
      ]
     },
     "execution_count": 73,
     "metadata": {},
     "output_type": "execute_result"
    }
   ],
   "source": [
    "# let us do the slicing using old dataframe df\n",
    "\n",
    "df.iloc[0:2, 0:3]"
   ]
  },
  {
   "cell_type": "code",
   "execution_count": 75,
   "id": "20e1ee15",
   "metadata": {},
   "outputs": [
    {
     "data": {
      "text/html": [
       "<div>\n",
       "<style scoped>\n",
       "    .dataframe tbody tr th:only-of-type {\n",
       "        vertical-align: middle;\n",
       "    }\n",
       "\n",
       "    .dataframe tbody tr th {\n",
       "        vertical-align: top;\n",
       "    }\n",
       "\n",
       "    .dataframe thead th {\n",
       "        text-align: right;\n",
       "    }\n",
       "</style>\n",
       "<table border=\"1\" class=\"dataframe\">\n",
       "  <thead>\n",
       "    <tr style=\"text-align: right;\">\n",
       "      <th></th>\n",
       "      <th>ID</th>\n",
       "      <th>Department</th>\n",
       "    </tr>\n",
       "  </thead>\n",
       "  <tbody>\n",
       "    <tr>\n",
       "      <th>0</th>\n",
       "      <td>1</td>\n",
       "      <td>Architect Group</td>\n",
       "    </tr>\n",
       "    <tr>\n",
       "      <th>1</th>\n",
       "      <td>2</td>\n",
       "      <td>Software Group</td>\n",
       "    </tr>\n",
       "    <tr>\n",
       "      <th>2</th>\n",
       "      <td>3</td>\n",
       "      <td>Design Team</td>\n",
       "    </tr>\n",
       "  </tbody>\n",
       "</table>\n",
       "</div>"
      ],
      "text/plain": [
       "   ID       Department\n",
       "0   1  Architect Group\n",
       "1   2   Software Group\n",
       "2   3      Design Team"
      ]
     },
     "execution_count": 75,
     "metadata": {},
     "output_type": "execute_result"
    }
   ],
   "source": [
    "#let us do the slicing using loc() function on old dataframe df where index column is having labels as 0,1,2\n",
    "df.loc[0:2,'ID':'Department']"
   ]
  },
  {
   "cell_type": "code",
   "execution_count": 76,
   "id": "d1636878",
   "metadata": {},
   "outputs": [
    {
     "data": {
      "text/html": [
       "<div>\n",
       "<style scoped>\n",
       "    .dataframe tbody tr th:only-of-type {\n",
       "        vertical-align: middle;\n",
       "    }\n",
       "\n",
       "    .dataframe tbody tr th {\n",
       "        vertical-align: top;\n",
       "    }\n",
       "\n",
       "    .dataframe thead th {\n",
       "        text-align: right;\n",
       "    }\n",
       "</style>\n",
       "<table border=\"1\" class=\"dataframe\">\n",
       "  <thead>\n",
       "    <tr style=\"text-align: right;\">\n",
       "      <th></th>\n",
       "      <th>ID</th>\n",
       "      <th>Department</th>\n",
       "    </tr>\n",
       "    <tr>\n",
       "      <th>Name</th>\n",
       "      <th></th>\n",
       "      <th></th>\n",
       "    </tr>\n",
       "  </thead>\n",
       "  <tbody>\n",
       "    <tr>\n",
       "      <th>Rose</th>\n",
       "      <td>1</td>\n",
       "      <td>Architect Group</td>\n",
       "    </tr>\n",
       "    <tr>\n",
       "      <th>John</th>\n",
       "      <td>2</td>\n",
       "      <td>Software Group</td>\n",
       "    </tr>\n",
       "    <tr>\n",
       "      <th>Jane</th>\n",
       "      <td>3</td>\n",
       "      <td>Design Team</td>\n",
       "    </tr>\n",
       "  </tbody>\n",
       "</table>\n",
       "</div>"
      ],
      "text/plain": [
       "      ID       Department\n",
       "Name                     \n",
       "Rose   1  Architect Group\n",
       "John   2   Software Group\n",
       "Jane   3      Design Team"
      ]
     },
     "execution_count": 76,
     "metadata": {},
     "output_type": "execute_result"
    }
   ],
   "source": [
    "#let us do the slicing using loc() function on new dataframe df2 where index column is Name having labels: Rose, John and Jane\n",
    "df2.loc['Rose':'Jane', 'ID':'Department']"
   ]
  },
  {
   "cell_type": "markdown",
   "id": "06397ec9",
   "metadata": {},
   "source": [
    "## Numpy"
   ]
  },
  {
   "cell_type": "code",
   "execution_count": 78,
   "id": "7d3d4ab1",
   "metadata": {},
   "outputs": [
    {
     "data": {
      "text/plain": [
       "array([30, 32, 34, 36, 38, 40])"
      ]
     },
     "execution_count": 78,
     "metadata": {},
     "output_type": "execute_result"
    }
   ],
   "source": [
    "import numpy as np\n",
    "\n",
    "arr1 = np.array([10, 11, 12, 13, 14, 15])\n",
    "arr2 = np.array([20, 21, 22, 23, 24, 25])\n",
    "\n",
    "result = arr1+arr2\n",
    "result\n",
    "# Enter your code here"
   ]
  },
  {
   "cell_type": "code",
   "execution_count": 79,
   "id": "95d45028",
   "metadata": {},
   "outputs": [
    {
     "data": {
      "text/plain": [
       "array([2, 1])"
      ]
     },
     "execution_count": 79,
     "metadata": {},
     "output_type": "execute_result"
    }
   ],
   "source": [
    "# Create a numpy array\n",
    "\n",
    "x = np.array([1, 2])\n",
    "x\n",
    "\n",
    "# Create a numpy array\n",
    "\n",
    "y = np.array([2, 1])\n",
    "y"
   ]
  },
  {
   "cell_type": "code",
   "execution_count": 81,
   "id": "643ed79e",
   "metadata": {},
   "outputs": [
    {
     "data": {
      "text/plain": [
       "array([2, 2])"
      ]
     },
     "execution_count": 81,
     "metadata": {},
     "output_type": "execute_result"
    }
   ],
   "source": [
    "# Numpy Array Multiplication\n",
    "\n",
    "# z = np.multiply(x, y)\n",
    "z = x*y\n",
    "z"
   ]
  },
  {
   "cell_type": "code",
   "execution_count": 83,
   "id": "7d3a4ddb",
   "metadata": {},
   "outputs": [
    {
     "name": "stdout",
     "output_type": "stream",
     "text": [
      "4\n"
     ]
    }
   ],
   "source": [
    "dot = np.dot(x,y)\n",
    "\n",
    "print(dot)"
   ]
  },
  {
   "cell_type": "code",
   "execution_count": 86,
   "id": "110003c8",
   "metadata": {},
   "outputs": [],
   "source": [
    "# Make a numpy array within [0, 2π] and 100 elements \n",
    "\n",
    "x = np.linspace(0, 2*np.pi, num=100)\n",
    "\n",
    "y = np.sin(x)"
   ]
  },
  {
   "cell_type": "code",
   "execution_count": 87,
   "id": "fa415682",
   "metadata": {},
   "outputs": [
    {
     "data": {
      "text/plain": [
       "[<matplotlib.lines.Line2D at 0x22acdb13a10>]"
      ]
     },
     "execution_count": 87,
     "metadata": {},
     "output_type": "execute_result"
    },
    {
     "data": {
      "image/png": "[encoded data removed]",
      "text/plain": [
       "<Figure size 640x480 with 1 Axes>"
      ]
     },
     "metadata": {},
     "output_type": "display_data"
    }
   ],
   "source": [
    "import matplotlib.pyplot as plt\n",
    "\n",
    "plt.plot(x,y)"
   ]
  },
  {
   "cell_type": "code",
   "execution_count": 88,
   "id": "91953c29",
   "metadata": {},
   "outputs": [
    {
     "data": {
      "text/plain": [
       "[[11, 12, 13], [21, 22, 23], [31, 32, 33]]"
      ]
     },
     "execution_count": 88,
     "metadata": {},
     "output_type": "execute_result"
    }
   ],
   "source": [
    "# Create a list\n",
    "\n",
    "a = [[11, 12, 13], [21, 22, 23], [31, 32, 33]]\n",
    "a"
   ]
  },
  {
   "cell_type": "code",
   "execution_count": 89,
   "id": "34b5c4ea",
   "metadata": {},
   "outputs": [
    {
     "data": {
      "text/plain": [
       "array([[11, 12, 13],\n",
       "       [21, 22, 23],\n",
       "       [31, 32, 33]])"
      ]
     },
     "execution_count": 89,
     "metadata": {},
     "output_type": "execute_result"
    }
   ],
   "source": [
    "# Convert list to Numpy Array\n",
    "# Every element is the same type\n",
    "\n",
    "A = np.array(a)\n",
    "A"
   ]
  },
  {
   "cell_type": "code",
   "execution_count": 90,
   "id": "ea9ee5e6",
   "metadata": {},
   "outputs": [
    {
     "data": {
      "text/plain": [
       "2"
      ]
     },
     "execution_count": 90,
     "metadata": {},
     "output_type": "execute_result"
    }
   ],
   "source": [
    "# Show the numpy array dimensions\n",
    "\n",
    "A.ndim"
   ]
  },
  {
   "cell_type": "code",
   "execution_count": 91,
   "id": "ca9f6556",
   "metadata": {},
   "outputs": [
    {
     "data": {
      "text/plain": [
       "(3, 3)"
      ]
     },
     "execution_count": 91,
     "metadata": {},
     "output_type": "execute_result"
    }
   ],
   "source": [
    "# Show the numpy array shape\n",
    "\n",
    "A.shape"
   ]
  },
  {
   "cell_type": "code",
   "execution_count": 92,
   "id": "8b1220ea",
   "metadata": {},
   "outputs": [
    {
     "data": {
      "text/plain": [
       "9"
      ]
     },
     "execution_count": 92,
     "metadata": {},
     "output_type": "execute_result"
    }
   ],
   "source": [
    "# Show the numpy array size\n",
    "\n",
    "A.size"
   ]
  },
  {
   "cell_type": "markdown",
   "id": "caa9b1f1",
   "metadata": {},
   "source": [
    "# API"
   ]
  },
  {
   "cell_type": "markdown",
   "id": "a5f16399",
   "metadata": {},
   "source": [
    "APIs define how software components should interact and facilitate communication between various products and services without requiring direct implementation.\n",
    "\n",
    "# Conclusion\n",
    "In summary, APIs are an essential part of software development, and they provide a way to access data and functionality from other systems. They are used in a wide range of applications and can help developers save time and resources while creating new applications."
   ]
  },
  {
   "cell_type": "markdown",
   "id": "c26bb9c4",
   "metadata": {},
   "source": [
    "follow intro_API.ipynb"
   ]
  },
  {
   "cell_type": "markdown",
   "id": "81abcc2d",
   "metadata": {},
   "source": [
    "<h1> HTTP and Requests</h1>\n",
    "\n",
    "Estimated time needed: **30** minutes\n",
    "\n",
    "## Objectives\n",
    "\n",
    "After completing this lab you will be able to:\n",
    "\n",
    "*   Understand HTTP\n",
    "*   Handle HTTP Requests\n"
   ]
  },
  {
   "cell_type": "markdown",
   "id": "e29d37a1",
   "metadata": {},
   "source": [
    "## Uniform Resource Locator:URL\n",
    "Uniform resource locator (URL) is the most popular way to find resources on the web.  We can break the URL into three parts.\n",
    "\n",
    "<ul>\n",
    "    <li><b>Scheme</b>:- This is this protocol, for this lab it will always be <code>http://</code>  </li>\n",
    "    <li><b> Internet address or  Base URL </b>:- This will be used to find the location here are some examples: <code>www.ibm.com</code> and  <code> www.gitlab.com </code> </li>\n",
    "    <li><b>Route</b>:- Location on the web server for example: <code>/images/IDSNlogo.png</code> </li>\n",
    "</ul>\n"
   ]
  },
  {
   "cell_type": "markdown",
   "id": "aa208560",
   "metadata": {},
   "source": [
    "follow Requests_HTTP.ipynb"
   ]
  },
  {
   "cell_type": "code",
   "execution_count": 2,
   "id": "89aa6152",
   "metadata": {},
   "outputs": [
    {
     "ename": "SyntaxError",
     "evalue": "invalid syntax (1942628498.py, line 1)",
     "output_type": "error",
     "traceback": [
      "\u001b[1;36m  Cell \u001b[1;32mIn[2], line 1\u001b[1;36m\u001b[0m\n\u001b[1;33m    follow Web Scraping_Web-Scraping-Review-Lab.ipynb\u001b[0m\n\u001b[1;37m           ^\u001b[0m\n\u001b[1;31mSyntaxError\u001b[0m\u001b[1;31m:\u001b[0m invalid syntax\n"
     ]
    }
   ],
   "source": [
    "follow Web Scraping_Web-Scraping-Review-Lab.ipynb"
   ]
  },
  {
   "cell_type": "code",
   "execution_count": null,
   "id": "5014bd5c",
   "metadata": {},
   "outputs": [],
   "source": [
    "WorkingWithDifferentFileFormats.ipynb"
   ]
  },
  {
   "cell_type": "markdown",
   "id": "2203a110",
   "metadata": {},
   "source": [
    "<h2>Read/Save Other Data Formats</h2>\n",
    "\n",
    "| Data Formate  | Read           | Save             |\n",
    "| ------------- |:--------------:| ----------------:|\n",
    "| csv           | `pd.read_csv()`  |`df.to_csv()`     |\n",
    "| json          | `pd.read_json()` |`df.to_json()`    |\n",
    "| excel         | `pd.read_excel()`|`df.to_excel()`   |\n",
    "| hdf           | `pd.read_hdf()`  |`df.to_hdf()`     |\n",
    "| sql           | `pd.read_sql()`  |`df.to_sql()`     |\n",
    "| ...           |   ...          |       ...        |\n"
   ]
  },
  {
   "cell_type": "markdown",
   "id": "7331ae38",
   "metadata": {},
   "source": [
    "# most important webscraping code"
   ]
  },
  {
   "cell_type": "code",
   "execution_count": 1,
   "id": "40a44999",
   "metadata": {},
   "outputs": [],
   "source": [
    "import pandas as pd\n",
    "\n",
    "from bs4 import BeautifulSoup"
   ]
  },
  {
   "cell_type": "code",
   "execution_count": 2,
   "id": "2e2c7b71",
   "metadata": {},
   "outputs": [],
   "source": [
    "#The below url contains html tables with data about world population.\n",
    "url = \"https://en.wikipedia.org/wiki/World_population\""
   ]
  },
  {
   "cell_type": "code",
   "execution_count": 3,
   "id": "afca0b56",
   "metadata": {},
   "outputs": [
    {
     "data": {
      "text/html": [
       "<div>\n",
       "<style scoped>\n",
       "    .dataframe tbody tr th:only-of-type {\n",
       "        vertical-align: middle;\n",
       "    }\n",
       "\n",
       "    .dataframe tbody tr th {\n",
       "        vertical-align: top;\n",
       "    }\n",
       "\n",
       "    .dataframe thead th {\n",
       "        text-align: right;\n",
       "    }\n",
       "</style>\n",
       "<table border=\"1\" class=\"dataframe\">\n",
       "  <thead>\n",
       "    <tr style=\"text-align: right;\">\n",
       "      <th></th>\n",
       "      <th>Rank</th>\n",
       "      <th>Country</th>\n",
       "      <th>Population</th>\n",
       "      <th>Area (km2)</th>\n",
       "      <th>Density (pop/km2)</th>\n",
       "    </tr>\n",
       "  </thead>\n",
       "  <tbody>\n",
       "    <tr>\n",
       "      <th>0</th>\n",
       "      <td>1</td>\n",
       "      <td>Singapore</td>\n",
       "      <td>5921231</td>\n",
       "      <td>719</td>\n",
       "      <td>8235</td>\n",
       "    </tr>\n",
       "    <tr>\n",
       "      <th>1</th>\n",
       "      <td>2</td>\n",
       "      <td>Bangladesh</td>\n",
       "      <td>165650475</td>\n",
       "      <td>148460</td>\n",
       "      <td>1116</td>\n",
       "    </tr>\n",
       "    <tr>\n",
       "      <th>2</th>\n",
       "      <td>3</td>\n",
       "      <td>Palestine[note 3][99]</td>\n",
       "      <td>5223000</td>\n",
       "      <td>6025</td>\n",
       "      <td>867</td>\n",
       "    </tr>\n",
       "    <tr>\n",
       "      <th>3</th>\n",
       "      <td>4</td>\n",
       "      <td>Taiwan[note 4]</td>\n",
       "      <td>23580712</td>\n",
       "      <td>35980</td>\n",
       "      <td>655</td>\n",
       "    </tr>\n",
       "    <tr>\n",
       "      <th>4</th>\n",
       "      <td>5</td>\n",
       "      <td>South Korea</td>\n",
       "      <td>51844834</td>\n",
       "      <td>99720</td>\n",
       "      <td>520</td>\n",
       "    </tr>\n",
       "    <tr>\n",
       "      <th>5</th>\n",
       "      <td>6</td>\n",
       "      <td>Lebanon</td>\n",
       "      <td>5296814</td>\n",
       "      <td>10400</td>\n",
       "      <td>509</td>\n",
       "    </tr>\n",
       "    <tr>\n",
       "      <th>6</th>\n",
       "      <td>7</td>\n",
       "      <td>Rwanda</td>\n",
       "      <td>13173730</td>\n",
       "      <td>26338</td>\n",
       "      <td>500</td>\n",
       "    </tr>\n",
       "    <tr>\n",
       "      <th>7</th>\n",
       "      <td>8</td>\n",
       "      <td>Burundi</td>\n",
       "      <td>12696478</td>\n",
       "      <td>27830</td>\n",
       "      <td>456</td>\n",
       "    </tr>\n",
       "    <tr>\n",
       "      <th>8</th>\n",
       "      <td>9</td>\n",
       "      <td>Israel</td>\n",
       "      <td>9402617</td>\n",
       "      <td>21937</td>\n",
       "      <td>429</td>\n",
       "    </tr>\n",
       "    <tr>\n",
       "      <th>9</th>\n",
       "      <td>10</td>\n",
       "      <td>India</td>\n",
       "      <td>1389637446</td>\n",
       "      <td>3287263</td>\n",
       "      <td>423</td>\n",
       "    </tr>\n",
       "  </tbody>\n",
       "</table>\n",
       "</div>"
      ],
      "text/plain": [
       "   Rank                Country  Population  Area (km2)  Density (pop/km2)\n",
       "0     1              Singapore     5921231         719               8235\n",
       "1     2             Bangladesh   165650475      148460               1116\n",
       "2     3  Palestine[note 3][99]     5223000        6025                867\n",
       "3     4         Taiwan[note 4]    23580712       35980                655\n",
       "4     5            South Korea    51844834       99720                520\n",
       "5     6                Lebanon     5296814       10400                509\n",
       "6     7                 Rwanda    13173730       26338                500\n",
       "7     8                Burundi    12696478       27830                456\n",
       "8     9                 Israel     9402617       21937                429\n",
       "9    10                  India  1389637446     3287263                423"
      ]
     },
     "execution_count": 3,
     "metadata": {},
     "output_type": "execute_result"
    }
   ],
   "source": [
    "pd.read_html(url, match=\"10 most densely populated countries\", flavor='bs4')[0]"
   ]
  },
  {
   "cell_type": "code",
   "execution_count": 18,
   "id": "463329bc",
   "metadata": {},
   "outputs": [
    {
     "name": "stderr",
     "output_type": "stream",
     "text": [
      "ERROR: Could not find a version that satisfies the requirement bs4==4.11.2 (from versions: 0.0.0, 0.0.1, 0.0.2)\n",
      "ERROR: No matching distribution found for bs4==4.11.2\n",
      "\n",
      "[notice] A new release of pip is available: 24.0 -> 25.1.1\n",
      "[notice] To update, run: python.exe -m pip install --upgrade pip\n"
     ]
    }
   ],
   "source": [
    "!pip install --upgrade bs4==4.11.2"
   ]
  },
  {
   "cell_type": "code",
   "execution_count": 19,
   "id": "93557910",
   "metadata": {},
   "outputs": [
    {
     "name": "stdout",
     "output_type": "stream",
     "text": [
      "Collecting beautifulsoup4==4.11.2\n",
      "  Downloading beautifulsoup4-4.11.2-py3-none-any.whl.metadata (3.5 kB)\n",
      "Requirement already satisfied: soupsieve>1.2 in c:\\users\\anshu\\appdata\\local\\programs\\python\\python312\\lib\\site-packages (from beautifulsoup4==4.11.2) (2.5)\n",
      "Downloading beautifulsoup4-4.11.2-py3-none-any.whl (129 kB)\n",
      "   ---------------------------------------- 0.0/129.4 kB ? eta -:--:--\n",
      "   --- ------------------------------------ 10.2/129.4 kB ? eta -:--:--\n",
      "   --------------------- ----------------- 71.7/129.4 kB 991.0 kB/s eta 0:00:01\n",
      "   --------------------------------- ---- 112.6/129.4 kB 939.4 kB/s eta 0:00:01\n",
      "   ---------------------------------------- 129.4/129.4 kB 1.1 MB/s eta 0:00:00\n",
      "Installing collected packages: beautifulsoup4\n",
      "  Attempting uninstall: beautifulsoup4\n",
      "    Found existing installation: beautifulsoup4 4.8.2\n",
      "    Uninstalling beautifulsoup4-4.8.2:\n",
      "      Successfully uninstalled beautifulsoup4-4.8.2\n",
      "Successfully installed beautifulsoup4-4.11.2\n"
     ]
    },
    {
     "name": "stderr",
     "output_type": "stream",
     "text": [
      "\n",
      "[notice] A new release of pip is available: 24.0 -> 25.1.1\n",
      "[notice] To update, run: python.exe -m pip install --upgrade pip\n"
     ]
    }
   ],
   "source": [
    "!pip install beautifulsoup4==4.11.2"
   ]
  },
  {
   "cell_type": "code",
   "execution_count": null,
   "id": "a6c99539",
   "metadata": {},
   "outputs": [],
   "source": [
    "## complete the SQL"
   ]
  }
 ],
 "metadata": {
  "kernelspec": {
   "display_name": "Python 3",
   "language": "python",
   "name": "python3"
  },
  "language_info": {
   "codemirror_mode": {
    "name": "ipython",
    "version": 3
   },
   "file_extension": ".py",
   "mimetype": "text/x-python",
   "name": "python",
   "nbconvert_exporter": "python",
   "pygments_lexer": "ipython3",
   "version": "3.12.2"
  }
 },
 "nbformat": 4,
 "nbformat_minor": 5
}
